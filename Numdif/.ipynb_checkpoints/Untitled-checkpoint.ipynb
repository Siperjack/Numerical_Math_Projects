{
 "cells": [
  {
   "cell_type": "markdown",
   "id": "b5d79c20",
   "metadata": {},
   "source": [
    "# Project 1"
   ]
  },
  {
   "cell_type": "code",
   "execution_count": null,
   "id": "c7160af0",
   "metadata": {},
   "outputs": [],
   "source": []
  },
  {
   "cell_type": "code",
   "execution_count": null,
   "id": "2b8dade6",
   "metadata": {},
   "outputs": [],
   "source": []
  },
  {
   "cell_type": "code",
   "execution_count": null,
   "id": "5cedaed3",
   "metadata": {},
   "outputs": [],
   "source": []
  },
  {
   "cell_type": "markdown",
   "id": "00920cba",
   "metadata": {},
   "source": [
    "Schemes"
   ]
  },
  {
   "cell_type": "code",
   "execution_count": 2,
   "id": "b66ad47a",
   "metadata": {},
   "outputs": [],
   "source": [
    "def forward_euler_OG(f, sigma, r_val, c, M=10, N=100, T = 0.5):#h spacestep, M spacegrid, h timestep, N time grid\n",
    "    h, k = 1/M, T/N\n",
    "    r = k/h**2\n",
    "    U = np.zeros((N+1,M+1))    # Array to store the solution, boundaries included.\n",
    "    x = np.linspace(0,1,M+1)   # Gridpoints on the x-axisS\n",
    "    t = np.linspace(0,T,N+1)   # Gridpoints on the t-axis\n",
    "    U[0] = f(x)              # Initial values\n",
    "    qm = np.zeros(np.shape(U[0,1:M]))\n",
    "    qm[-1] = U[0,-1]\n",
    "    \n",
    "    tridiag = np.diag(np.ones(M - 2), -1) + np.diag(np.ones(M - 2), 1) - 2*np.diag(np.ones(M - 1))\n",
    "    duodiag = np.diag(np.ones(M - 2), 1) - np.diag(np.ones(M - 2), -1)\n",
    "    L = np.diag(np.ones(M-1)) + k * (sigma**2 / (h**2 * 2) * x**2 *tridiag + r_val/(h * 2) * x * duodiag - c * np.diag(np.ones(M - 1)))\n",
    "    for tn in range(1, N):\n",
    "        U[tn,1:M] = L @ U[tn - 1,1:M] + r*qm\n",
    "    return x ,t, U.transpose()"
   ]
  },
  {
   "cell_type": "markdown",
   "id": "e819d2b2",
   "metadata": {},
   "source": [
    "Initial conditions and artiicial boundary conditions"
   ]
  },
  {
   "cell_type": "code",
   "execution_count": null,
   "id": "202e7369",
   "metadata": {},
   "outputs": [],
   "source": [
    "def f"
   ]
  }
 ],
 "metadata": {
  "kernelspec": {
   "display_name": "Python 3",
   "language": "python",
   "name": "python3"
  },
  "language_info": {
   "codemirror_mode": {
    "name": "ipython",
    "version": 3
   },
   "file_extension": ".py",
   "mimetype": "text/x-python",
   "name": "python",
   "nbconvert_exporter": "python",
   "pygments_lexer": "ipython3",
   "version": "3.8.12"
  }
 },
 "nbformat": 4,
 "nbformat_minor": 5
}
