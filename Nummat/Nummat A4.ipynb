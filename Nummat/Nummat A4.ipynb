{
 "cells": [
  {
   "cell_type": "markdown",
   "metadata": {},
   "source": [
    "### TMA4215 Numerisk Matematikk \n",
    "\n",
    "Høst 2021 – October, 8, 2021\n",
    "\n",
    "R. Bergmann, E. Çokaj, O. P. Hellan \n",
    "\n",
    "# Problem Sheet 4\n",
    "\n",
    "## Deadline\n",
    "October 15, 2021, 23:59\n",
    "\n",
    "\n",
    "## Submission\n",
    "submit your Jupyter notebook containing the solution via upload in blackboard."
   ]
  },
  {
   "cell_type": "markdown",
   "metadata": {},
   "source": [
    "## Problem 1\n",
    "\n",
    "We consider the generalized eigenvalue problem: Let $A, B \\in \\mathbb FR^{n\\times n}$ be symmetric positive definite matrices. Then, a pair $(\\lambda, \\mathbf x) \\in \\mathbb R\\times \\mathbb R^n$ is a generalized  eigenvalue $\\lambda$ with generalized eigenvector $\\mathbf x$ if\n",
    "\n",
    "$$\n",
    "A\\mathbf x = \\lambda B\\mathbf x\n",
    "$$\n",
    "\n",
    "holds.\n",
    "\n",
    "Prove that the smallest and largest eigenvalues $\\lambda_{\\mathrm{min}},\\lambda_{\\mathrm{max}}$ of the generalized eigenvalues can be computed as\n",
    "\n",
    "$$\n",
    "\\lambda_{\\mathrm{max}}\n",
    "  =\n",
    "    \\min_{\\substack{\\mathbf{x}\\in\\mathbb R^n \\\\ \\mathbf{x}\\neq\\mathbf{0}}}\n",
    "    \\frac{\\mathbf{x}^\\mathrm{T} A\\mathbf{x}}\n",
    "    {\\mathbf{x}^\\mathrm{T} B \\mathbf{x}}\n",
    "  \\qquad\\text{and}\\qquad\n",
    "    \\lambda_{\\mathrm{max}}\n",
    "  =\n",
    "    \\max_{\\substack{\\mathbf{x}\\in\\mathbb R^n \\\\ \\mathbf{x}\\neq\\mathbf{0}}}\n",
    "    \\frac{\\mathbf{x}^\\mathrm{T} A\\mathbf{x}}\n",
    "    {\\mathbf{x}^\\mathrm{T} B \\mathbf{x}}.\n",
    "$$\n",
    "\n",
    "_Hint_: Use the Rayleigh quotient (from Project 1) and the Cholesky decomposition."
   ]
  },
  {
   "cell_type": "markdown",
   "metadata": {},
   "source": [
    "If $\n",
    "A\\mathbf x = \\lambda B\\mathbf x\n",
    "$ holds,then $x^T A x = \\lambda x^T B x$ holds, and cholesky factorysing gives ${x^T  L_A^T L_A x} = \\lambda {x^T  L_B^T L_B x}$ and \n",
    "\n",
    "$\\frac{\\lVert L_A x \\rVert_2}{\\lVert L_B x \\rVert_2} = \\lambda$ holds. Because the scalably homogenity property of the norm we can also argue that the norm of x doesnt matter, as a scalar $\\neq 0 $ gets cancelled when applied both in the numerator and denominator. We then obtain \n",
    "$$ \\lambda = \\frac{\\lVert L_A x \\rVert_2}{\\lVert L_B x \\rVert_2} = \\frac{x^T A x}{x^T B x}, x \\neq 0$$\n",
    "\n",
    "From it follows that the maximum eigenvalue is the maximum of this expression, and the minimum is also the minimum."
   ]
  },
  {
   "cell_type": "markdown",
   "metadata": {},
   "source": [
    "## Problem 2\n",
    "\n",
    "We are given the following nodes $x_j$ with their values\n",
    "\n",
    "| $x_j$ | $-1$ | $1$ | $2$ |\n",
    "| --- | ---- | --- | --- |\n",
    "| $y_j$ | $1$ | $3$ | $2$ |\n",
    "\n",
    "1. Compute the function $f_a$ in the following span of Ansatz functions\n",
    "   $$\n",
    "    \\operatorname{span} \\bigl\\{(x+1)^2, (x-1)^2,(x-2)^2 \\bigr\\}\n",
    "   $$\n",
    "   for the nodes and values given above.\n",
    "2. Compute the interpolating function $f_b$ in the following span of Ansatz functions\n",
    "   $$\n",
    "   \\operatorname{span} \\bigl\\{\\sin(\\tfrac{\\pi}{2} x), \\cos(\\tfrac{\\pi}{2} x), \\cos (\\pi x)\\bigr\\}\n",
    "   $$\n",
    "   for the nodes and values given above.\n",
    "3. Compute the interpolation polynomial $p_2 \\in \\mathbb P_2$ for the nodes and values given above.\n",
    "4. Plot the three functions from the first 3 tasks in one plot on the interval $[-1.5, 2.5]$\n",
    "5. Compute the value $p_{12}(2)$ of the interpolatory polynomial $p_{12} \\in \\mathbb P_{12}$ which interpolates the function \n",
    "   $$\n",
    "   f(x) \n",
    "   = \n",
    "   (3x^3-3x+3)^3\n",
    "   $$\n",
    "   in the nodes $x_j = \\frac{j}{12}$, $j = 0,\\dots,12$, i.e. it holds $y_j = f(x_j) = p_{12}(x_j)$ for $j = 0,\\ldots,12$."
   ]
  },
  {
   "cell_type": "markdown",
   "metadata": {},
   "source": [
    "##### 2.1)"
   ]
  },
  {
   "cell_type": "code",
   "execution_count": 2,
   "metadata": {},
   "outputs": [],
   "source": [
    "import sympy as smp\n",
    "import numpy as np\n",
    "import matplotlib.pyplot as plt"
   ]
  },
  {
   "cell_type": "markdown",
   "metadata": {},
   "source": [
    "We got the function in the span of the basis represented as\n",
    "$$\n",
    "a (x + 1)^2 + b(x - 1)^2 + c(x - 2)^2 = y\n",
    "$$\n",
    "Inserting the x's and y's we get the three equations represented in matrix form as\n",
    "$$\n",
    "\\left[\\begin{matrix}4b + 9c = 1\\\\4a +c = 3 \\\\9a + b = 2 \\end{matrix}\\right]\n",
    "\\iff \\left[\\begin{matrix}0 & 4 & 9 \\\\4 & 0 & 1 \\\\9 & 1 & 0 \\end{matrix}\\right] \\left[\\begin{matrix}a\\\\b\\\\c\\end{matrix}\\right]\n",
    "= \\left[\\begin{matrix}1\\\\3 \\\\2\\end{matrix}\\right]\n",
    "$$"
   ]
  },
  {
   "cell_type": "code",
   "execution_count": 3,
   "metadata": {},
   "outputs": [
    {
     "name": "stdout",
     "output_type": "stream",
     "text": [
      "\\left[\\begin{matrix}\\frac{17}{36}\\\\- \\frac{9}{4}\\\\\\frac{10}{9}\\end{matrix}\\right]\n",
      "\\left[\\begin{matrix}0 & 4 & 9\\\\4 & 0 & 1\\\\9 & 1 & 0\\end{matrix}\\right]\n"
     ]
    }
   ],
   "source": [
    "A = smp.Matrix([[0, 4, 9],\n",
    "                [4, 0, 1],\n",
    "                [9, 1, 0]])\n",
    "b = smp.Matrix([1,3,2])\n",
    "print(smp.latex(A.solve(b)))\n",
    "A\n",
    "print(smp.latex(A))"
   ]
  },
  {
   "cell_type": "markdown",
   "metadata": {},
   "source": [
    "This means \n",
    "$$\n",
    "\\left[\\begin{matrix}a\\\\b\\\\c\\end{matrix}\\right] = \\left[\\begin{matrix}\\frac{17}{36}\\\\- \\frac{9}{4}\\\\\\frac{10}{9}\\end{matrix}\\right]\n",
    "$$"
   ]
  },
  {
   "cell_type": "markdown",
   "metadata": {},
   "source": [
    "##### 2.2)\n",
    "Inserting the x's in the formula $a\\sin(\\tfrac{\\pi}{2} x) + b\\cos(\\tfrac{\\pi}{2} x)+c\\cos (\\pi x)$ we obtain the linear system \n",
    "$$\n",
    "\\left[\\begin{matrix}-a + -c = 1\\\\a + -c = 3 \\\\-b + c = 2 \\end{matrix}\\right]\n",
    "\\iff \\left[\\begin{matrix}-1 & 0 & -1 \\\\1 & 0 & -1 \\\\0 & -1 & 1 \\end{matrix}\\right] \\left[\\begin{matrix}a\\\\b\\\\c\\end{matrix}\\right]\n",
    "= \\left[\\begin{matrix}1\\\\3 \\\\2\\end{matrix}\\right]\n",
    "$$\n",
    "which easly gives the solution \n",
    "$$\n",
    "\\left[\\begin{matrix}a\\\\b\\\\c\\end{matrix}\\right] = \\left[\\begin{matrix}1\\\\-4\\\\-2\\end{matrix}\\right]\n",
    "$$"
   ]
  },
  {
   "cell_type": "markdown",
   "metadata": {},
   "source": [
    "##### 2.3 \n",
    "Because the interpolating polynomial of order 2 is unique for three nodes, we can just cnge basis on the 2.1) representation to basis $\\operatorname{span} \\bigl\\{1, x, x^2 \\bigr\\}$, and we can just insert $\\left[\\begin{matrix}a\\\\b\\\\c\\end{matrix}\\right] = \\left[\\begin{matrix}\\frac{17}{36}\\\\- \\frac{9}{4}\\\\\\frac{10}{9}\\end{matrix}\\right]$ in $ a (x + 1)^2 + b(x - 1)^2 + c(x - 2)^2 $, and we get \n",
    "$$\n",
    "- 0.666666666666667 x^{2} + 1.0 x + 2.66666666666667\n",
    "$$"
   ]
  },
  {
   "cell_type": "code",
   "execution_count": 4,
   "metadata": {},
   "outputs": [
    {
     "name": "stdout",
     "output_type": "stream",
     "text": [
      "- 0.666666666666667 x^{2} + 1.0 x + 2.66666666666667\n"
     ]
    }
   ],
   "source": [
    "a, b, c = 17/36, -9/4, 10/9\n",
    "x = smp.symbols(\"x\")\n",
    "p_2 = a*(x+1)**2 + b*(x-1)**2 + c*(x-2)**2\n",
    "print(smp.latex(smp.simplify(p_2)))"
   ]
  },
  {
   "cell_type": "markdown",
   "metadata": {},
   "source": [
    "##### 2.4)\n",
    "We call the functions from 2.1, 2.2 and 2.3 for $p_1, p_2, p_3$ respectivly"
   ]
  },
  {
   "cell_type": "code",
   "execution_count": 5,
   "metadata": {},
   "outputs": [],
   "source": [
    "def p1(x):\n",
    "    a, b, c = 17/36, -9/4, 10/9\n",
    "    return a*(x+1)**2 + b*(x-1)**2 + c*(x-2)**2\n",
    "\n",
    "def p2(x):\n",
    "    return np.sin(np.pi/2*x) - 4 * np.cos(np.pi/2*x) - 2 * np.cos(np.pi*x)\n",
    "\n",
    "def p3(x):\n",
    "    return -2/3 * x**2  +x + 8/3"
   ]
  },
  {
   "cell_type": "code",
   "execution_count": 6,
   "metadata": {},
   "outputs": [],
   "source": [
    "xs = np.linspace(-1.5,2.5,100)\n",
    "y1s = np.array([p1(x) for x in xs])\n",
    "# y1s = p1(xs) syyyk denne her\n",
    "y2s = np.array([p2(x) for x in xs])\n",
    "y3s = np.array([p3(x) for x in xs])\n",
    "ys = np.array([y1s,y2s,y3s])"
   ]
  },
  {
   "cell_type": "code",
   "execution_count": 7,
   "metadata": {},
   "outputs": [
    {
     "data": {
      "text/plain": [
       "<matplotlib.legend.Legend at 0x1c692110e80>"
      ]
     },
     "execution_count": 7,
     "metadata": {},
     "output_type": "execute_result"
    },
    {
     "data": {
      "image/png": "[encoded data removed]",
      "text/plain": [
       "<Figure size 432x288 with 1 Axes>"
      ]
     },
     "metadata": {
      "needs_background": "light"
     },
     "output_type": "display_data"
    }
   ],
   "source": [
    "plt.title(\"interpolating functions\")\n",
    "plt.plot(xs,y1s, label = \"$p_1(x)$\")\n",
    "plt.plot(xs,y2s, label = \"$p_2(x)$\")\n",
    "plt.plot(xs,y3s, label = \"$p_3(x)$\")\n",
    "plt.legend()"
   ]
  },
  {
   "cell_type": "markdown",
   "metadata": {},
   "source": [
    "##### 2.5) \n",
    "We Lagrangean cardinal functions with the nodes $x_j = \\frac{j}{12}, j = 0,1,...,12$ and corresponding values $f(x_j)$"
   ]
  },
  {
   "cell_type": "code",
   "execution_count": 8,
   "metadata": {},
   "outputs": [],
   "source": [
    "def f(x):\n",
    "    return (3 * x**3 - 3*x + 3)**3\n",
    "\n",
    "def lagrange_cardinaals(x, xs, ys):\n",
    "    n = len(xs)\n",
    "    zum = 0\n",
    "    for i in range(n):\n",
    "        Li = 1\n",
    "        for j in range(n):\n",
    "            if i == j:\n",
    "                continue\n",
    "            #Here we just use the memory already allocated for ys and overwrite it with the lagrange cardinal\n",
    "            Li *= (x-xs[j])/(xs[i]-xs[j])\n",
    "        zum += Li*ys[i]\n",
    "    return zum"
   ]
  },
  {
   "cell_type": "code",
   "execution_count": 9,
   "metadata": {},
   "outputs": [
    {
     "name": "stdout",
     "output_type": "stream",
     "text": [
      "p(2) = 9261.00\n"
     ]
    }
   ],
   "source": [
    "xs = np.linspace(0,1,13,endpoint=True)\n",
    "x = np.linspace(0,1)\n",
    "ys = f(xs)\n",
    "interpol = lagrange_cardinaals(2, xs, ys)\n",
    "print(f\"p(2) = {interpol:.2f}\")"
   ]
  },
  {
   "cell_type": "markdown",
   "metadata": {},
   "source": [
    "We input $x = 2$ into the interpolationg polynomial and we get\n",
    "$$\n",
    "p(2) = 9261.00\n",
    "$$\n",
    "\n",
    "Below we also plot the function to see if the nodes have the right values, which seems okei."
   ]
  },
  {
   "cell_type": "code",
   "execution_count": 10,
   "metadata": {},
   "outputs": [],
   "source": [
    "x = np.linspace(0,1)\n",
    "ys2 = lagrange_cardinaals(x, xs, ys)"
   ]
  },
  {
   "cell_type": "code",
   "execution_count": 11,
   "metadata": {},
   "outputs": [
    {
     "data": {
      "text/plain": [
       "[<matplotlib.lines.Line2D at 0x1c6932468e0>]"
      ]
     },
     "execution_count": 11,
     "metadata": {},
     "output_type": "execute_result"
    },
    {
     "data": {
      "image/png": "[encoded data removed]",
      "text/plain": [
       "<Figure size 432x288 with 1 Axes>"
      ]
     },
     "metadata": {
      "needs_background": "light"
     },
     "output_type": "display_data"
    }
   ],
   "source": [
    "plt.plot(x,ys2)"
   ]
  },
  {
   "cell_type": "markdown",
   "metadata": {},
   "source": [
    "## Problem 3\n",
    "  Let the following interpolation points (nodes & values) be given:\n",
    "  $$\n",
    "    (-1,0),(0,1),(2,-2).\n",
    "  $$\n",
    "  1. Compute the interpolatory polynomial $p_{\\mathrm{L}}\\in \\mathcal P_2$ in Lagrange form.\n",
    "  2. Compute the interpolatory polynomial $p_{\\mathrm{N}}\\in \\mathcal P_2$ in Newton form.\n",
    "  3. Write both $p_{\\mathrm{L}}$ and $p_{\\mathrm{N}}$ in monomial form and check that both fulfill the interpolation properties; further compute $p_{\\text{L}}(1)$ and $p_{\\text{N}}(1)$.\n",
    "  4. We obtain the additional point $(3,0)$. Compute the new interpolatory polynomial $p_3 \\in \\mathcal P_3$ with a method of your own choice. Compute the value $p_3(1)$."
   ]
  },
  {
   "cell_type": "markdown",
   "metadata": {},
   "source": [
    "##### 3.1) and 3.2)"
   ]
  },
  {
   "cell_type": "code",
   "execution_count": 12,
   "metadata": {},
   "outputs": [],
   "source": [
    "def pL(x):\n",
    "    return 0*(x**2 - 2*x)/3 - 1*(x**2 - x - 2)/2 - 2*(x**2 + x)/6\n",
    "def pN(x):\n",
    "    return -5/6*(x + 1)*x + (x + 1)"
   ]
  },
  {
   "cell_type": "markdown",
   "metadata": {},
   "source": [
    "In monomial form we get\n",
    "$$\n",
    "p_L = -\\frac{5}{6} x^2 + \\frac{1}{6}x + 1\n",
    "$$\n",
    "and\n",
    "$$\n",
    "p_N = -\\frac{5}{6} x^2 + \\frac{1}{6}x + 1\n",
    "$$\n",
    "which are of course the same as the polynomial of degree m interpolating m+1 nodes is unique."
   ]
  },
  {
   "cell_type": "markdown",
   "metadata": {},
   "source": [
    "##### 3.3)"
   ]
  },
  {
   "cell_type": "code",
   "execution_count": 13,
   "metadata": {},
   "outputs": [
    {
     "name": "stdout",
     "output_type": "stream",
     "text": [
      "pL(-1) = 0.0 and pN(-1) = 0.0\n",
      "pL(0) = 1.0 and pN(0) = 1.0\n",
      "pL(2) = -2.0 and pN(2) = -2.0\n"
     ]
    }
   ],
   "source": [
    "for x in [-1,0,2]:\n",
    "    print(f\"pL({x}) = {pL(x)} and pN({x}) = {pN(x)}\")"
   ]
  },
  {
   "cell_type": "code",
   "execution_count": 14,
   "metadata": {},
   "outputs": [
    {
     "name": "stdout",
     "output_type": "stream",
     "text": [
      "pL(1) = 0.33333333333333337 and pN(1) = 0.33333333333333326\n"
     ]
    }
   ],
   "source": [
    "print(f\"pL(1) = {pL(1)} and pN(1) = {pN(1)}\")"
   ]
  },
  {
   "cell_type": "code",
   "execution_count": 15,
   "metadata": {},
   "outputs": [],
   "source": [
    "# testcode\n",
    "# xs = [i for i in range(10)]\n",
    "# ys = [pL(x) for x in xs]\n",
    "# ys"
   ]
  },
  {
   "cell_type": "markdown",
   "metadata": {},
   "source": [
    "##### 3.4)\n",
    "As newtons method is recursive, we only need to iterate one more time with newton differences, where as for lagrange cardinal funcitons we have to start over. The choice is there for easy on which method to use if we want to increase the numbers of nodes and polynomial degree after already calculated for one choice of m. One more iteration of newtons method gives\n",
    "$$\n",
    "p_3 = f[x_1 x_2 x_3 x_4](x - x_0)(x - x_1)(x - x_2) + p_2\n",
    "$$\n"
   ]
  },
  {
   "cell_type": "markdown",
   "metadata": {},
   "source": [
    "## Problem 4\n",
    "\n",
    "For the nodes $\\Delta_3 = [0, 1, 2, 3]$\n",
    "we consider the piecewise linear splines, i.e. $s \\in \\mathcal S_1$ written as a linear combination of the corresponding $B$-spline basis (“hat functions”)\n",
    "$$\n",
    "s(x)\n",
    "=\n",
    "\\sum_{k = 0}^{3} c_k B_{i,2}(x).\n",
    "$$\n",
    "1. Compute the normalized B splines $B_{i,2}$, $i=0,\\ldots,3,$\n",
    "2. (interpolation nodes are equal to the spline nodes)\n",
    "   \n",
    "   Compute the linear spline of $\\Delta_3$ to interpolate\n",
    "\n",
    "   | $t_j=x_j$ | $0$ | $1$ | $2$ | $3$ |\n",
    "   | --- | --- | --- | --- | --- |\n",
    "   | $y_j$ | $1$ | $3$ | $4$ | $8$ |\n",
    "\n",
    "   Sketch the solution first or explain why this is easy to solve.\n",
    "\n",
    "3. (interpolation nodes are equal to the spline nodes)\n",
    "   Compute the linear spline from $\\Delta_3$, i.e. the functions from part 1 or to be even more precise the $c_k$ in the first formula of this problem, such that $s(x)$ interpolates\n",
    "\n",
    "   | $t_j$ | $0$ | $0.5$ | $2.2$ | $3$ |\n",
    "   | --- | --- | --- | --- | --- |\n",
    "   | $y_j$ | $1$ | $3$ | $4$ | $8$ |\n",
    "\n",
    "   It might be helpful to first make a sketch where the nodes $x_i$ of the splines and where the interpolation points $t_i$ lie. State both the coefficients $c_k$ as well as the explicit formula of the resulting spline $s$ on the intervals $[0, 1)$, $[1, 2)$ and $[2, 3]$.\n",
    "  2. Is the method from the last point for interpolation points $t_0, t_1, t_2, t_3 \\in [0, 3]$ uniquely determined?"
   ]
  },
  {
   "cell_type": "markdown",
   "metadata": {},
   "source": [
    "##### 4.1)"
   ]
  },
  {
   "cell_type": "markdown",
   "metadata": {},
   "source": [
    "We get with De Boor's algorithm\n",
    "$$\n",
    "B_{-1,2} = \\left[\\begin{matrix}1 + x, & x \\in [-1,0)\\\\1 - x, & x \\in [0,1)\\end{matrix}\\right]\n",
    "$$\n",
    "\n",
    "$$\n",
    "B_{0,2} = \\left[\\begin{matrix}x, & x \\in [0,1)\\\\2 - x, & x \\in [1,2)\\end{matrix}\\right]\n",
    "$$\n",
    "\n",
    "$$\n",
    "B_{1,2} = \\left[\\begin{matrix}x - 1, & x \\in [1,2)\\\\3 -x, & x \\in [2,3)\\end{matrix}\\right]\n",
    "$$\n",
    "\n",
    "$$\n",
    "B_{2,2} = \\left[\\begin{matrix}x - 2, & x \\in [2,3)\\\\4 -x, & x \\in [3,4)\\end{matrix}\\right]\n",
    "$$\n",
    "\n",
    "<!-- $$\n",
    "B_{0,2} = \\left[\\begin{matrix}a_0 x + b_0, & x \\in [0,1)\\\\c_1 (x-1), & x \\in [1,2)\\end{matrix}\\right]\n",
    "$$\n",
    "\n",
    "$$\n",
    "B_{1,2} = \\left[\\begin{matrix}x - 1, & x \\in [1,2)\\\\3 - x, & x \\in [2,3)\\end{matrix}\\right]\n",
    "$$\n",
    "\n",
    "etc... -->"
   ]
  },
  {
   "cell_type": "markdown",
   "metadata": {},
   "source": [
    "##### 4.2)\n",
    "If we take a linear combination of these B-splines that satisfies\n",
    "$$\n",
    "   | t_j=x_j | 0 | 1 | 2 | 3 |\n",
    "   | --- | --- | --- | --- | --- |\n",
    "   | y_j | 1 | 3 | 4 | 8 |\n",
    "$$\n",
    "we can because they are linear without much work see that $c_0 = 1$ for $s(0) = 1$, $c_1 = 3$ for $s(0) = 3$, $c_2 = 4$ for $s(2) = 4$, $c_3 = 8$ for $s(3) = 8$. \n",
    "This is basicly sketching straight lines."
   ]
  },
  {
   "cell_type": "markdown",
   "metadata": {},
   "source": [
    "##### 4.3)\n",
    "\n",
    "$$\n",
    "B_{-1,2} = \\left[\\begin{matrix}1 + x, & x \\in [-1,0)\\\\1 - 2x, & x \\in [0,0.5)\\end{matrix}\\right]\n",
    "$$\n",
    "\n",
    "$$\n",
    "B_{0,2} = \\left[\\begin{matrix}2x, & x \\in [0,0.5)\\\\\\frac{2.2 - x}{1.7}, & x \\in [0.5,2.2)\\end{matrix}\\right]\n",
    "$$\n",
    "\n",
    "$$\n",
    "B_{1,2} = \\left[\\begin{matrix}\\frac{x - 0.5}{1.7}, & x \\in [0.5,2.2)\\\\\\frac{3 - x}{0.8}, & x \\in [2.2,3)\\end{matrix}\\right]\n",
    "$$\n",
    "\n",
    "$$\n",
    "B_{2,2} = \\left[\\begin{matrix}\\frac{x - 2.2}{0.8}, & x \\in [2.2,3)\\\\4 - x, & x \\in [3,4)\\end{matrix}\\right]\n",
    "$$\n",
    "\n",
    "With these B-splines, $c_i = {1, 3, 4, 8}$ again. Note the splines are different, and the $s_k$ function therefore is different."
   ]
  }
 ],
 "metadata": {
  "kernelspec": {
   "display_name": "Python 3",
   "language": "python",
   "name": "python3"
  },
  "language_info": {
   "codemirror_mode": {
    "name": "ipython",
    "version": 3
   },
   "file_extension": ".py",
   "mimetype": "text/x-python",
   "name": "python",
   "nbconvert_exporter": "python",
   "pygments_lexer": "ipython3",
   "version": "3.8.3"
  }
 },
 "nbformat": 4,
 "nbformat_minor": 5
}
