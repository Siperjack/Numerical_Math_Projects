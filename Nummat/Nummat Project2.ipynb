{
 "cells": [
  {
   "cell_type": "markdown",
   "metadata": {},
   "source": [
    "### TMA4215 Numerisk Matematikk \n",
    "\n",
    "Høst 2021 – Tuesday, October 19, 2021\n",
    "\n",
    "R. Bergmann, E. Çokaj, O. P. Hellan \n",
    "\n",
    "# Project 2: Bézier Curves and Interpolation\n",
    "\n",
    "### Notes\n",
    "\n",
    "**Groups.** This project is a group project and can be solved in groups of _up to three_ students. Feel free to use for example the Forum to find each other. Eventually it will be possible to register groups in Inspera. One person (per group) can create a group and will get a PIN code which can be used by the other group members for registering.\n",
    "\n",
    "**Requirements for submission.** The submission is in [Inspera](https://ntnu.inspera.no/). Each group must submit their onw report. It is not allowed to copy from other groups.\n",
    "\n",
    "All code – also the tests – should be in individual cells that can just be run (as soon as the necessary functions are defined). Functions should only be used in cells _after_ their definition, such that an evaltuation in order of the notebook does not yield errors.\n",
    "\n",
    "It is not possible to have an extension for this project.\n",
    "\n",
    "**Supervision.** For questions the usual time, Thursday, 18.15–20.00 can be used. Questions can also be asked in the Mattelab forum.\n",
    "\n",
    "### Submission Deadline\n",
    "Tuesday, November 9, 2021."
   ]
  },
  {
   "cell_type": "markdown",
   "metadata": {},
   "source": [
    "## Introduction\n",
    "\n",
    "In this project we consider another possibility to perform interpolation with piecewise polynomials, namely from the family of parametrized curves.\n",
    "\n",
    "Let $\\mathbf p_0,\\ldots, \\mathbf p_n\\in \\mathbb R^d$ (usually $d=2$ or $d=3$) denote $n+1$ ordered points.\n",
    "\n",
    "Then the $n$th degree Bézier curve is defined by\n",
    "\n",
    "$$\n",
    "\\mathbf c(t) = \\mathbf b_n(t; \\mathbf p_0,\\ldots,\\mathbf p_n) = \\sum_{i=0}^{n} B_{i,n}(t)\\mathbf{p}_i,\n",
    "$$\n",
    "\n",
    "where $B_{n,i}(t)$ are the $n$th degree _Bernstein polynomials_. We use the first notation, $\\mathbf c(t)$ when the points are clear from context, and the second, $\\mathbf b(t; \\mathbf p_0,\\ldots,\\mathbf p_n)$ to emphasize the dependency of the nodes and/or the degree $n$.\n",
    "\n",
    "$$\n",
    "  B_{i,n}(t) = {n \\choose i}t^i(1-t)^{n-i}, \\qquad i=0,\\ldots,n,\n",
    "$$\n",
    "\n",
    "where ${n \\choose i} = \\frac{n!}{i!(n-i)!}$ denotes the binomial coefficient.\n",
    "\n",
    "To get familiar with the first few Bernstein polynomials it might be good to write down $B_{0,0}, B_{0,1}, B_{1,1}, B_{0,2}, B_{1,2},$ and $B_{2,2}.$ "
   ]
  },
  {
   "cell_type": "markdown",
   "metadata": {},
   "source": [
    "$\n",
    "B_{0,0} = 1\n",
    "$\n",
    ", \n",
    "$\n",
    "B_{0,1} = 1-t\n",
    "$\n",
    ", \n",
    "$\n",
    "B_{1,1} = t\n",
    "$\n",
    "$\n",
    "B_{0,2} = (1-t)^2\n",
    "$\n",
    ", \n",
    "$\n",
    "B_{1,2} = 2t(1-t)\n",
    "$\n",
    ", \n",
    "$\n",
    "B_{2,2} = t^2\n",
    "$"
   ]
  },
  {
   "cell_type": "code",
   "execution_count": 172,
   "metadata": {},
   "outputs": [],
   "source": [
    "import numpy as np\n",
    "import matplotlib.pyplot as plt\n",
    "from scipy.special import binom\n",
    "np.set_printoptions(precision=3)\n",
    "from datetime import datetime\n",
    "import scipy.linalg as lng"
   ]
  },
  {
   "cell_type": "markdown",
   "metadata": {},
   "source": [
    "## Problem 1: Properties of Bernstein polynomials\n",
    "\n",
    "Let $n\\in \\mathbb N$ be given. We consider the Bernstein polynomials $B_{i,n}(t)$, $i=0,\\ldots,n$.\n",
    "\n",
    "1. Show that $B_{i,n}(t) \\geq 0$ for all $t\\in [0,1]$."
   ]
  },
  {
   "cell_type": "markdown",
   "metadata": {},
   "source": [
    "A product of two positive factors is itsef positive. The binomial coefficient is a positive number, the same holds for $t $ and $(1-t)$ in the range $t \\in [0, ]$$\\blacksquare$"
   ]
  },
  {
   "cell_type": "markdown",
   "metadata": {},
   "source": [
    "2. Show that the Bernstein polynomials for $0<i<n$ can be recursively defined by\n",
    "  \n",
    "   $$\n",
    "   B_{i,n}(t) = (1-t)B_{i,n-1}(t) + tB_{i-1,n-1}(t), \\qquad t \\in [0,1].\n",
    "   $$\n",
    "  \n",
    "   How does this look like for $B_{0,n}$ and $B_{n,n}$? "
   ]
  },
  {
   "cell_type": "markdown",
   "metadata": {},
   "source": [
    "Basecase we have $B_{0,0} = 1$ and $B_{i \\neq 0,0} = 0$. This corresponds to the Bernstein polynomial formula.\n",
    "If we assume then that $B_{i,n}$ corresponds to their formula. For the cases $B_{0,n+1}$ and $B_{n+1,n+1}$ we get their corresponding formulas $B_{0,n+1} = (1-t)B_{0,n}$ and $B_{n+1,n+1} = t B_{n,n}$, this satisfies the formulas as ${n \\choose 0}$ = ${n \\choose n}$ = $1$.\n",
    "For the case $B_{i,n+1}, 0 < i < n$ we get $$\n",
    "   B_{i,n+1}(t) = (1-t){n \\choose i}t^i(1-t)^{n-i} + t{n \\choose i-1}t^{i-1}(1-t)^{n-i+1}\n",
    "   = {n \\choose i}t^i(1-t)^{n-i+1} + {n \\choose i-1}t^{i}(1-t)^{n-i+1}\n",
    "   =  ({n \\choose i}+ {n \\choose i-1}) t^{i}(1-t)^{n-i+1}, \\qquad t \\in [0,1]\n",
    "   $$\n",
    "   \n",
    "From pascals triangle we know that $$ {n \\choose i}+ {n \\choose i-1} = {n+1 \\choose i}\n",
    "$$ and the rekursion is prooved by induciton. $\\blacksquare$"
   ]
  },
  {
   "cell_type": "markdown",
   "metadata": {},
   "source": [
    "3. Show that the $B_{i,n}(t)$ form a partition of unity, i.e.\n",
    "   $$\n",
    "   \\sum_{i=0}^n B_{i,n}(t) = 1 \\qquad \\text{ for } t \\in [0,1].\n",
    "   $$\n",
    "   _Hint_: Use induction by $n$."
   ]
  },
  {
   "cell_type": "markdown",
   "metadata": {},
   "source": [
    "The basecase is trivially partitioned to unity, as the only Bernstein polynomial of degree 0 is the constant 1.\n",
    "We then assume that    $$\n",
    "   \\sum_{i=0}^n B_{i,n}(t) = 1 \\qquad \\text{ for } t \\in [0,1].\n",
    "   $$\n",
    "then \n",
    "$$\n",
    "   \\sum_{i=0}^{n+1} B_{i,n+1}(t) = (1-t)B_{0,n}(t) + t B_{n,n}(t) + \\sum_{i=1}^{n} (1-t)B_{i,n}(t) + t B_{i-1,n}(t) + = \\\\\n",
    "   (1 - t)^{n+1} + t^{n+1} + \\sum_{i=1}^{n}{n \\choose i}t^i(1-t)^{n-i+1} + {n \\choose i-1}t^{i}(1-t)^{n-i+1} = \\\\\n",
    "   (1 - t)^{n+1} + \\sum_{i=1}^{n}{n \\choose i}t^i(1-t)^{n-i+1} + t^{n+1} + \\sum_{i=0}^{n-1}{n \\choose i}t^{i+1}(1-t)^{n-i} = \\\\(1-t) \\left((1 - t)^{n} + \\sum_{i=1}^{n}{n \\choose i}t^i(1-t)^{n-i}\\right) + t\\left(t^{n} + \\sum_{i=0}^{n-1}{n \\choose i}t^{i}(1-t)^{n-i}\\right) = \\\\\n",
    "   (1-t) \\left(\\sum_{i=0}^{n}B_{i,n}\\right) + t\\left(\\sum_{i=0}^{n}{B_{i,n}}\\right)\n",
    "$$\n",
    "Then by the assumtion this is again $$\n",
    "1 - t + t = 1 $$\n",
    "$\\blacksquare$\n"
   ]
  },
  {
   "cell_type": "markdown",
   "metadata": {},
   "source": [
    "4. Show that the derivative is given by\n",
    "   \n",
    "   $$\n",
    "   B_{i,n}'(t) =  n(B_{i-1,n-1}(t) - B_{i,n-1}(t))\n",
    "   $$\n",
    "   \n",
    "   with $B_{-1,n-1}(u) \\equiv B_{n,n-1}(u) \\equiv 0$."
   ]
  },
  {
   "cell_type": "markdown",
   "metadata": {},
   "source": [
    "Since $B_{i,n}(t) = {n\\choose i}t^i(1-t)^{n-i}$ then the derivative must be\n",
    "\n",
    "$$\n",
    "\\frac{d}{dt} B_{i,n}(t) = \\frac{d}{dt}\\Bigg({n\\choose i}t^i(1-t)^{n-i}\\Bigg) = \\frac{n!}{i!(n-i)!}\\Big(it^{i-1}(1-t)^{n-i} -(n-i)t^i(1-t)^{n-i-1}\\Big)\n",
    "$$\n",
    "\n",
    "$$\n",
    "=\\frac{n\\cdot(n-1)!}{(i-1)!(n-i)!}t^{i-1}(1-t)^{n-i} - \\frac{n\\cdot(n-1)!}{i!(n-i-1)!}t^i(1-t)^{n-i-1} = n\\Bigg({n-1\\choose i-1}t^{i-1}(1-t)^{n-i} - {n-1\\choose i}t^i(1-t)^{n-i-1}\\Bigg) \n",
    "$$\n",
    "$$\n",
    "= n\\left(B_{i-1,n-1}(t) - B_{i,n-1}(t)\\right).\n",
    "$$\n",
    "Which was what we wanted to show."
   ]
  },
  {
   "cell_type": "markdown",
   "metadata": {},
   "source": [
    "5. Implement a function `Bernstein(i,n,t)` that evaluates $B_{i,n}$ at $t$ and plot all functions $B_{i,n}$, $i=0,\\ldots,n$ for $n=3$ and $n=9$."
   ]
  },
  {
   "cell_type": "code",
   "execution_count": 72,
   "metadata": {},
   "outputs": [],
   "source": [
    "def Bernstein_rek(i, n, t):\n",
    "    if n == 0:\n",
    "        return 1\n",
    "    elif i == n:\n",
    "        return t*Bernstein_rek(i - 1, n - 1, t)\n",
    "    elif i == 0:\n",
    "        return (1 - t)*Bernstein_rek(i, n - 1, t)\n",
    "    else:\n",
    "        return t*Bernstein_rek(i - 1, n - 1, t) + (1 - t)*Bernstein_rek(i, n - 1, t)\n",
    "\n",
    "def Bernstein_closed_form(i, n, t):\n",
    "    return binom(n, i) * t**i * (1 - t)**(n - i)\n",
    "    \n",
    "    "
   ]
  },
  {
   "cell_type": "code",
   "execution_count": 73,
   "metadata": {},
   "outputs": [],
   "source": [
    "def BernsteinPlotter(n):\n",
    "    ts = np.linspace(0,1,100)\n",
    "    B_in = np.zeros((n + 1, len(ts)))\n",
    "    for i in range(n + 1):\n",
    "        B_in[i] = np.array([Bernstein_rek(i, n, t) for t in ts])\n",
    "    plt.title(f\"Bernstein polynomials of {n} degrees\")\n",
    "    plt.plot(ts, B_in.transpose())"
   ]
  },
  {
   "cell_type": "code",
   "execution_count": 74,
   "metadata": {
    "scrolled": true
   },
   "outputs": [
    {
     "data": {
      "image/png": "[encoded data removed]",
      "text/plain": [
       "<Figure size 432x288 with 1 Axes>"
      ]
     },
     "metadata": {
      "needs_background": "light"
     },
     "output_type": "display_data"
    }
   ],
   "source": [
    "BernsteinPlotter(3)"
   ]
  },
  {
   "cell_type": "code",
   "execution_count": 75,
   "metadata": {},
   "outputs": [
    {
     "data": {
      "image/png": "[encoded data removed]",
      "text/plain": [
       "<Figure size 432x288 with 1 Axes>"
      ]
     },
     "metadata": {
      "needs_background": "light"
     },
     "output_type": "display_data"
    }
   ],
   "source": [
    "BernsteinPlotter(10)"
   ]
  },
  {
   "cell_type": "markdown",
   "metadata": {},
   "source": [
    "## Problem 2: Properties of (composite) Bézier curves\n",
    "\n",
    "We consider the points $\\mathbf p_0,\\ldots,\\mathbf p_n \\in \\mathbb R^d$ and $\\mathbf q_0,\\ldots \\mathbf q_n\\in \\mathbb R^d$ and their corresponding Bézier curves $\\mathbf c(t) = \\mathbf b(t; \\mathbf p_0,\\ldots,\\mathbf p_n)$ and $\\mathbf d(t) = \\mathbf b(t; \\mathbf q_0,\\ldots, \\mathbf q_n)$, respectively.\n",
    "\n",
    "In this problem, we will also consider _composite Bézier curves_, or piecewise Bézier curves, e.g. a curve $\\mathbf s \\colon [0,2] \\to \\mathbb R^d$ defined by\n",
    "\n",
    "$$\n",
    "\\mathbf s(t) = \\begin{cases}\n",
    "  \\mathbf c(t) & \\text{ for } 0 \\leq t < 1\\\\\n",
    "  \\mathbf d(t-1) & \\text{ for } 1 \\leq t \\leq 2.\n",
    "\\end{cases}\n",
    "$$"
   ]
  },
  {
   "cell_type": "markdown",
   "metadata": {},
   "source": [
    "1. Compute the first two derivatives $\\mathbf c'(t)$ and $\\mathbf c''(t)$ of $\\mathbf c(t).$"
   ]
  },
  {
   "cell_type": "markdown",
   "metadata": {},
   "source": [
    "We have $$\n",
    "\\mathbf c(t) = \\mathbf b_n(t; \\mathbf p_0,\\ldots,\\mathbf p_n) = \\sum_{i=0}^{n} B_{i,n}(t)\\mathbf{p}_i\n",
    "$$\n",
    "Linearity of the derivative operator we get\n",
    "$$\n",
    "\\mathbf c'(t) = \\mathbf b_n'(t; \\mathbf p_0,\\ldots,\\mathbf p_n) = \\sum_{i=0}^{n} B'_{i,n}(t)\\mathbf{p}_i\n",
    "$$\n",
    "We have shown the derivative is given the formula $$ n(B_{i-1,n-1}(t) - B_{i,n-1}(t))$$\n",
    "Inserting this we get \n",
    "$$\n",
    "\\mathbf c'(t) = \\sum_{i=0}^{n} n(B_{i-1,n-1}(t) - B_{i,n-1}(t))\\mathbf{p}_i\n",
    "$$\n",
    "and \n",
    "$$\n",
    "\\mathbf c''(t) = \\sum_{i=0}^{n} n(n-1)(B_{i-2,n-2}(t) - B_{i-1,n-2}(t)) - n(B_{i-1,n-2}(t) - B_{i,n-2}(t)))\\mathbf{p}_i\n",
    "$$"
   ]
  },
  {
   "cell_type": "markdown",
   "metadata": {},
   "source": [
    "2. What values does $\\mathbf c(t)$ attend at its end points? State $\\mathbf c(0)$ and $\\mathbf c(1).$"
   ]
  },
  {
   "cell_type": "markdown",
   "metadata": {},
   "source": [
    "We have shown the bernstein polynomials of degree n is partitioned to unity. We have also shown that the $B_{0,n}$ and the $B_{n,n}$ polynomial is given $(1-t)^n$ and $t^n$ respectivly, which is evaluated to $[1,0]$ and $[0,1]$ at the endpoints. These facts together means that $\\mathbf c(0) =\\mathbf p_0$ and $\\mathbf c(1) =\\mathbf p_n$, as all other bernsteinpolynomials evaluates to $0$ at the endpoints of the Bezier curve."
   ]
  },
  {
   "cell_type": "markdown",
   "metadata": {},
   "source": [
    "3. Prove that the following properties hold:\n",
    "   1. $\\mathbf c'(0) = n(\\mathbf p_1-\\mathbf p_0),$\n",
    "   2. $\\mathbf c''(0) = n(n-1)(\\mathbf p_0-2\\mathbf p_1 + \\mathbf p_2),$\n",
    "   3. $\\mathbf c'(1) = n(\\mathbf p_n-\\mathbf p_{n-1}),$\n",
    "   4. $\\mathbf c''(1) = n(n-1)(\\mathbf p_n-2\\mathbf p_{n-1} + \\mathbf p_{n-2}).$"
   ]
  },
  {
   "cell_type": "markdown",
   "metadata": {},
   "source": [
    "All this tasks is only about taking our formulas for the derivative and count every corresponding $\\mathbf p_i$ to when $B_{i,n} = B_{0,n}$ for $\\mathbf c(0)$ and $B_{i,n} = B_{n,n}$ for $\\mathbf c(1)$\n",
    "\n",
    "A) $$n(i=1 - i=0) = n(\\mathbf p_1 - \\mathbf p_0)$$\n",
    "B) $$n(n-1)(i=2 - i=1 - i=1 + i=0) = n(n-1)(\\mathbf p_2 - \\mathbf p_1  + \\mathbf p_0)$$\n",
    "C) $$n(i=n - i=n-1) = n(\\mathbf p_1 - \\mathbf p_0)$$\n",
    "D) $$n(n-1)(i=n - i=n- 1 - i=n-1 + i=n-2) = n(n-1)(\\mathbf p_{n} - \\mathbf p_{n-1}  + \\mathbf p_{n-2})$$"
   ]
  },
  {
   "cell_type": "markdown",
   "metadata": {},
   "source": [
    "4. Use the recursion property of Bernstein polynomials to prove the recursive definition\n",
    "   $$\n",
    "   \\mathbf b_n(t; \\mathbf p_0,\\ldots,\\mathbf p_n) = (1-t)b_{n-1}(t; \\mathbf p_0,\\ldots,\\mathbf p_{n-1}) + tb_{n-1}(t; \\mathbf p_1,\\ldots,\\mathbf p_n).\n",
    "   $$"
   ]
  },
  {
   "cell_type": "markdown",
   "metadata": {},
   "source": [
    "   $$\n",
    "   \\mathbf b_n(t; \\mathbf p_0,\\ldots,\\mathbf p_n) = \\sum_{i=0}^n B_{i,n}(t) = \\sum_{i=0}^n (1-t)B_{i,n-1}(t) + tB_{i-1,n-1}(t)\n",
    " = (1-t)b_{n-1}(t; \\mathbf p_0,\\ldots,\\mathbf p_{n-1}) + tb_{n-1}(t; \\mathbf p_1,\\ldots,\\mathbf p_n).\n",
    "   $$\n"
   ]
  },
  {
   "cell_type": "markdown",
   "metadata": {},
   "source": [
    "5. The recursion from point 4 of this problem can be used to define the so-called “de Casteljau” algorithm to evaluate $\\mathbf b_n(t_0; ; \\mathbf p_1,\\ldots,\\mathbf p_n)$ at $t_0 \\in [0,1]$ algorithm:\n",
    "   \n",
    "   Starting with $\\mathbf p_{0,i}(t_0) = \\mathbf p_i$ compute for $k=0,\\ldots,n$ and $i=0,\\ldots,k$\n",
    "   \n",
    "   $$\n",
    "   \\mathbf p_{k,i}(t_0) = (1-t_0)\\mathbf p_{k-1,i}(t_0) + t_0\\mathbf p_{k-1,i+1}(t_0),\n",
    "   $$\n",
    "   then $\\mathbf b_n(t_0; ; \\mathbf p_1,\\ldots,\\mathbf p_n) = \\mathbf p_{n,0}.$\n",
    "   \n",
    "   Implement a function `deCasteljau(P,t)` where `P` is a vector – of $n+1$ points – to evaluate the corresponding  Bézier curve at $t$.\n",
    "   \n",
    "   This function should also return (as a second return value) a vector `Pvecs` that contains a vector of points for every “level” $k$ considered.\n",
    "   \n",
    "   Plot the corresponding curve for the points \n",
    "   \n",
    "   $$\n",
    "   \\mathbf p_{0} = \\begin{pmatrix}0\\\\0\\end{pmatrix},\\quad\n",
    "   \\mathbf p_{1} = \\begin{pmatrix}2\\\\3\\end{pmatrix},\\quad\n",
    "   \\mathbf p_{2} = \\begin{pmatrix}4\\\\0\\end{pmatrix},\\quad\n",
    "   \\mathbf p_{3} = \\begin{pmatrix}6\\\\-3\\end{pmatrix},\\quad\n",
    "   \\mathbf p_{4} = \\begin{pmatrix}8\\\\0\\end{pmatrix},\n",
    "   $$\n",
    "   \n",
    "   including one line per “level” $k$ connecting the points when evaluating the curve at $t_0 = \\frac{1}{3}$"
   ]
  },
  {
   "cell_type": "code",
   "execution_count": 76,
   "metadata": {},
   "outputs": [],
   "source": [
    "def deCasteljau_rek(P, t):\n",
    "    n = len(P)\n",
    "    if n == 1: #on the lowest level we return the point times the updating rule\n",
    "        return P[0]\n",
    "    else:\n",
    "        return (1 - t)*deCasteljau_rek(P[:-1], t) + t*deCasteljau_rek(P[1:], t)"
   ]
  },
  {
   "cell_type": "code",
   "execution_count": 77,
   "metadata": {},
   "outputs": [],
   "source": [
    "def deCasteljau_closed_form(P, t):\n",
    "    n = len(P)\n",
    "    p_ki= np.zeros((n, n, 2))\n",
    "    p_ki[0,:] = P\n",
    "    for k in range(1, len(P)):\n",
    "        p_ki[k,:-k,:] += (1 - t)*p_ki[k-1,:-k,:] + t*p_ki[k-1,k:, :]\n",
    "#     print(p_ki[:,:,0])\n",
    "    return p_ki[-1, 0]"
   ]
  },
  {
   "cell_type": "code",
   "execution_count": 78,
   "metadata": {},
   "outputs": [
    {
     "name": "stdout",
     "output_type": "stream",
     "text": [
      "deCasteljau(P,0) is [0 0] and deCasteljau(P,1) is [8 0]\n"
     ]
    }
   ],
   "source": [
    "P = np.array([[0, 0], [2, 3], [4, 0], [6, -3], [8, 0]])\n",
    "ts = np.linspace(0,1,100)\n",
    "sol = np.array([deCasteljau_rek(P, t) for t in ts])\n",
    "print(f\"deCasteljau(P,0) is {deCasteljau_rek(P,0)} and deCasteljau(P,1) is {deCasteljau_rek(P,1)}\")"
   ]
  },
  {
   "cell_type": "code",
   "execution_count": 79,
   "metadata": {},
   "outputs": [
    {
     "name": "stdout",
     "output_type": "stream",
     "text": [
      "(100, 2)\n"
     ]
    },
    {
     "data": {
      "text/plain": [
       "[<matplotlib.lines.Line2D at 0x25e48d5f520>]"
      ]
     },
     "execution_count": 79,
     "metadata": {},
     "output_type": "execute_result"
    },
    {
     "data": {
      "image/png": "[encoded data removed]",
      "text/plain": [
       "<Figure size 432x288 with 1 Axes>"
      ]
     },
     "metadata": {
      "needs_background": "light"
     },
     "output_type": "display_data"
    }
   ],
   "source": [
    "print(np.shape(sol))\n",
    "plt.plot(sol[:,0], sol[:,1])"
   ]
  },
  {
   "cell_type": "markdown",
   "metadata": {},
   "source": [
    "6. Consider a _composite Bézier curve_ $\\mathbf s(t)$ as described in the beginning of this problem. Assume we want $\\mathbf s(t)$ to be a $C^{(k)}$, $k=0,1,2$ function. Then surely, increasing the class $k$ increases the dependent properties we have to impose.\n",
    "   1. What are the critical points of $\\mathbf s(t)$ to investigate for the property to be a $C^{(k)}$ function?\n",
    "   2. Which properties have to hold for continuity ($k=0$)? \n",
    "   3. Which properties have to hold for $\\mathbf s(t)$ to be continuously differentiable ($k=1$) ?\n",
    "   4. Which properties have to hold for $\\mathbf s(t)$ to be twice continuously differentiable ($k=2$) ?\n",
    "   \n",
    "   Try to simplify the conditions for the third and fourth point based on the properties you derived before.\n",
    "   \n",
    "   5. What changes if we want $\\mathbf s(t)$ to be periodic, i.e. $s(t) = s(2+t)$ for all $t$ for the continous differentiability case $k=1$? "
   ]
  },
  {
   "cell_type": "markdown",
   "metadata": {},
   "source": [
    "A) Only the point $s(1)$ need to be checked, as $s(t)$ is a polynomial for all other t-values, and polynomials are of course $\\in \\mathbf C^{\\infty}$\n",
    "\n",
    "B) The value of the endpoint of a nth Bezier curve is given by the last point point $p_n$. This means that $p_{0,n} = p_{1,0}$, where $p_{in}$ is the n'th point controlling the i'th compositt curve. \n",
    "\n",
    "C,D) Using    \n",
    "\n",
    "   1. $\\mathbf c'(0) = n(\\mathbf p_1-\\mathbf p_0),$\n",
    "   2. $\\mathbf c''(0) = n(n-1)(\\mathbf p_0-2\\mathbf p_1 + \\mathbf p_2),$\n",
    "   3. $\\mathbf c'(1) = n(\\mathbf p_n-\\mathbf p_{n-1}),$\n",
    "   4. $\\mathbf c''(1) = n(n-1)(\\mathbf p_n-2\\mathbf p_{n-1} + \\mathbf p_{n-2}).$\n",
    "   \n",
    "We get the constraints\n",
    "   1. $2\\mathbf p_{cn} = (\\mathbf p_{d1} + \\mathbf p_{c,n-1})$\n",
    "   2. $(\\mathbf p_{c,n-2} - 2\\mathbf p_{c,n-1}) = (\\mathbf p_{d2} - 2\\mathbf p_{d,1})$\n",
    "   \n",
    "E)\n",
    "We get the constraints $c(0) = d(1)$ in addition to the $c(1) = d(0)$ as before. This gives\n",
    "   1. $\\mathbf p_{cn} = \\mathbf p_{d0}$\n",
    "   2. $\\mathbf p_{c0} = \\mathbf p_{dn}$\n",
    "   1. $2\\mathbf p_{cn} = (\\mathbf p_{d1} + \\mathbf p_{c,n-1})$\n",
    "   2. $2\\mathbf p_{c0} = (\\mathbf p_{d,n-1} + \\mathbf p_{c,1})$\n",
    " \n"
   ]
  },
  {
   "cell_type": "markdown",
   "metadata": {},
   "source": [
    "## Problem 3: Interpolation with (composite, cubic) Bézier curves\n",
    "\n",
    "The most prominent variant are – similar to $B$ splines – again those Bézier curves that yield cubic polynomials, i.e. $\\mathbf b_3(t; \\mathbf p_0,\\mathbf p_1,\\mathbf p_2,\\mathbf p_3)$. To obtain a spline, we consider _composite Bézier curves_, i.e. we “stitch together” several Bézier curves (as considered for the case of 2 curves in the last problem):\n",
    "\n",
    "Given a number $m$ of segments and $\\mathbf p_{0,i}, \\mathbf p_{1,i}, \\mathbf p_{2,i}, \\mathbf p_{3,i}$ for $i=1,\\ldots,m$, then we define\n",
    "\n",
    "$$\n",
    "\\mathbf B(t) = \\begin{cases} \\ & \\\\\n",
    "b_3(t-i+1; \\mathbf p_{0,i}, \\mathbf p_{1,i}, \\mathbf p_{2,i}, \\mathbf p_{3,i})   \n",
    "& \\text{ for } i-1 \\leq t < i \\text{ and each } i=1,\\ldots,m\\\\\n",
    "& \\\\\n",
    "\\end{cases}\n",
    "$$"
   ]
  },
  {
   "cell_type": "markdown",
   "metadata": {},
   "source": [
    "1. Implement a function `compositeBézier(P, t)` that evaluates $\\mathbf B(t), t\\in [0,m]$, where $P = (\\mathbf p_{j,i})_{j=0, i=1}^{3,m}$ denotes a matrix of control points. Note that you can obtain the degree and the number of segments from the size of `P`.\n",
    "   \n",
    "   Test your function with the 3-segment cubic composite B spline given by\n",
    "   $$\n",
    "   \\begin{aligned}\n",
    "   \\mathbf p_{0,1} &= \\begin{pmatrix} -1\\\\0\\end{pmatrix},\\quad\n",
    "   \\mathbf p_{1,1} &= \\begin{pmatrix} -1\\\\\\frac{1}{3}\\end{pmatrix},\\quad\n",
    "   \\mathbf p_{2,1} &= \\begin{pmatrix} -\\frac{1}{3}\\\\1\\end{pmatrix},\\quad\n",
    "   \\mathbf p_{3,1} &= \\begin{pmatrix}  0\\\\1\\end{pmatrix}\\\\\n",
    "   \\mathbf p_{0,2} &= \\begin{pmatrix}  0\\\\1\\end{pmatrix},\\quad\n",
    "   \\mathbf p_{1,2} &= \\begin{pmatrix}  \\frac{1}{3}\\\\1\\end{pmatrix},\\quad\n",
    "   \\mathbf p_{2,2} &= \\begin{pmatrix}  1\\\\\\frac{1}{3}\\end{pmatrix},\\quad\n",
    "   \\mathbf p_{3,2} &= \\begin{pmatrix}  0\\\\1\\end{pmatrix}\\\\\n",
    "   \\mathbf p_{0,3} &= \\begin{pmatrix}  0\\\\1\\end{pmatrix},\\quad\n",
    "   \\mathbf p_{1,3} &= \\begin{pmatrix}  -\\frac{1}{3}\\\\1\\end{pmatrix},\\quad\n",
    "   \\mathbf p_{2,3} &= \\begin{pmatrix} \\frac{1}{3}\\\\-1\\end{pmatrix},\\quad\n",
    "   \\mathbf p_{3,3} &= \\begin{pmatrix}  0\\\\-1\\end{pmatrix}\\\\\n",
    "   \\end{aligned}\n",
    "   $$\n",
    "   and plot the resulting (complete) curve $\\mathbf B$."
   ]
  },
  {
   "cell_type": "code",
   "execution_count": 80,
   "metadata": {},
   "outputs": [],
   "source": [
    "def compositBezier(P, t):\n",
    "    which_curve = int(np.floor(t))\n",
    "    return deCasteljau_rek(P[:, which_curve, :], t - 1*which_curve)"
   ]
  },
  {
   "cell_type": "code",
   "execution_count": 81,
   "metadata": {},
   "outputs": [
    {
     "name": "stdout",
     "output_type": "stream",
     "text": [
      "(4, 3, 2)\n",
      "compositBezier(P, 0) is [-1.  0.] and compositBezier(P, 0.999) is [-0.001001  0.999998]\n",
      "compositBezier(P, 1) is [0. 1.] and compositBezier(P, 1.999) is [0.002995 0.998004]\n",
      "compositBezier(P, 2) is [0. 1.] and compositBezier(P, 2.999) is [ 9.97002000e-04 -9.99994004e-01]\n"
     ]
    }
   ],
   "source": [
    "P = np.array([[[-1,0],[0,1],[0,1]],[[-1,1/3],[1/3,1],[-1/3,1]],[[-1/3,1],[1,1/3],[1/3,-1]],[[0,1],[0,1],[0,-1]]])\n",
    "print(np.shape(P))\n",
    "ts = np.linspace(0,2.99,100)\n",
    "sol = np.array([compositBezier(P, t) for t in ts])\n",
    "print(f\"compositBezier(P, 0) is {compositBezier(P, 0)} and compositBezier(P, 0.999) is {compositBezier(P, 0.999)}\")\n",
    "print(f\"compositBezier(P, 1) is {compositBezier(P, 1)} and compositBezier(P, 1.999) is {compositBezier(P, 1.999)}\")\n",
    "print(f\"compositBezier(P, 2) is {compositBezier(P, 2)} and compositBezier(P, 2.999) is {compositBezier(P, 2.999)}\")"
   ]
  },
  {
   "cell_type": "code",
   "execution_count": 82,
   "metadata": {},
   "outputs": [
    {
     "name": "stdout",
     "output_type": "stream",
     "text": [
      "(100, 2)\n"
     ]
    },
    {
     "data": {
      "text/plain": [
       "[<matplotlib.lines.Line2D at 0x25e48db65b0>]"
      ]
     },
     "execution_count": 82,
     "metadata": {},
     "output_type": "execute_result"
    },
    {
     "data": {
      "image/png": "[encoded data removed]",
      "text/plain": [
       "<Figure size 432x288 with 1 Axes>"
      ]
     },
     "metadata": {
      "needs_background": "light"
     },
     "output_type": "display_data"
    }
   ],
   "source": [
    "print(np.shape(sol))\n",
    "plt.plot(sol[:,0], sol[:,1])"
   ]
  },
  {
   "cell_type": "markdown",
   "metadata": {},
   "source": [
    "2. Use the properties derived so far to derive an algorithm for the following problem:\n",
    "   \n",
    "   Given data points $\\mathbf a_0,\\ldots,\\mathbf a_{m-1} \\in \\mathbb R^d$ and velocities $\\mathbf v_0, \\mathbf v_1, \\ldots, \\mathbf v_{m-1}, \\in \\mathbb R^d$.\n",
    "   \n",
    "   Find the _periodic composite cubic Bézier curve_ $\\mathbf B(t)$ that maps from $[0,m]$ to $\\mathbb R^d$ with the following properties\n",
    "   * $\\mathbf B(0) = \\mathbf B(m),$\n",
    "   * $\\mathbf B'(0) = \\mathbf B'(m),$\n",
    "   * $\\mathbf B(i) = \\mathbf a_i$ for $i=0,\\ldots,m-1,$\n",
    "   * $\\mathbf B'(i) = \\mathbf v_i$ for $i=0,\\ldots,m-1.$\n",
    "\n",
    "   You can for example first sketch the algorithm or a few ideas in $\\LaTeX$.\n",
    "   \n",
    "   Then implement a function `interpolate_periodic(A,V)` where `A` is the vector of the interpolation points $[\\mathbf a_0,\\ldots,\\mathbf a_{m-1}]$ and `V` is the vector of the velocities $[\\mathbf v_0,\\ldots,\\mathbf v_{m-1}]$.   \n",
    "   The function should return a matrix `P` like in the first part to be able to plot the result."
   ]
  },
  {
   "cell_type": "markdown",
   "metadata": {},
   "source": [
    "Each cupic Bezier curve is uniquely defined by $4$ points. We want to find $4m$ points to find an unique composition of m cubic Bezier curve. We therefore want to find $4m$ constraints. These we find by requesting periodicity and that the composit Bezier curve lives in $C^{k=1}$. We then define $c_{i, p_n}$ as the point n of the i'th Bezier curve. By inserting this in the result for obtaining a periodic differentiable composit Bezier curve\n",
    "   1. $\\mathbf p_{cn} = \\mathbf p_{d0}$\n",
    "   2. $\\mathbf p_{c0} = \\mathbf p_{dn}$\n",
    "   1. $2\\mathbf p_{cn} = (\\mathbf p_{d1} + \\mathbf p_{c,n-1})$\n",
    "   2. $2\\mathbf p_{c0} = (\\mathbf p_{d,n-1} + \\mathbf p_{c,1})$\n",
    "we obtain the constraints\n",
    "$$\n",
    "c_{i, p_n} = c_{i+1, p_0} = a_i, i = 0, 1, ..., m - 1, m - 1 + 1 = 0\n",
    "$$\n",
    "and\n",
    "$$\n",
    "a_i - c_{i, p_{n-1}} = c_{i+1, p_{1}} - a_i = v_i, i = 0, 1, ..., m - 1, m - 1 + 1 = 0\n",
    "$$\n",
    "Both these contraintequations have $2m$ contraints each, so each point is constrained to 1 value. "
   ]
  },
  {
   "cell_type": "code",
   "execution_count": 83,
   "metadata": {},
   "outputs": [],
   "source": [
    "def interpolate_periodic(A,V):\n",
    "    n = 3 #degree of Bezier curve\n",
    "    m = len(A)\n",
    "    P = np.zeros((4, m, 2)) #4 points of m curves in R^2\n",
    "    for i in range(m):\n",
    "        P[n,i] = A[i]\n",
    "        P[0,(i + 1)%m] = A[i]\n",
    "        P[n-1,i] = A[i] - V[i]/n\n",
    "        P[1,(i + 1)%m] = V[i]/n + A[i]\n",
    "    return P"
   ]
  },
  {
   "cell_type": "markdown",
   "metadata": {},
   "source": [
    "3. Take your favourite letter from the alphabet. Draw its outline – \n",
    "i.e. a closed curve surrounding the letter– on a graph paper (those with a regular 2D grid) and take a few measurements of points and velocities. Use this data to illustrate how your function from 2 works. \n",
    "\n",
    "   _Hint_: a good idea is to take a letter without holes that only consist of one component like `t` or `T` (maybe not the little boring `l`).\n",
    "    \n",
    "   _Bonus Task_: Ignore the hint and do something fancy with `å`, `æ`, `ø`, or even `ß` (though that can be done with one outline in most this fonts)."
   ]
  },
  {
   "cell_type": "code",
   "execution_count": 84,
   "metadata": {},
   "outputs": [],
   "source": [
    "s = 0.5 #the \"speed\", controls the \"curvyness\" of the curve\n",
    "A = np.array([[1,-3],[0,-3],[0,1],[-2,1],[-2,2],[3,2],[3,1],[1,1]]) #Dataset, forms a T\n",
    "V = np.array([[-s,0],[0,s],[-s,0],[0,s],[s,0],[0,-s],[-s,0],[0,-s]]) #Velocity set"
   ]
  },
  {
   "cell_type": "code",
   "execution_count": 263,
   "metadata": {},
   "outputs": [
    {
     "name": "stdout",
     "output_type": "stream",
     "text": [
      "(4, 8, 2)\n"
     ]
    }
   ],
   "source": [
    "P = interpolate_periodic(A, V)\n",
    "print(np.shape(P))\n",
    "ts = np.linspace(0,len(P[0,:])-0.001,100)\n",
    "sol = np.array([compositBezier(P, t) for t in ts])"
   ]
  },
  {
   "cell_type": "code",
   "execution_count": 86,
   "metadata": {},
   "outputs": [
    {
     "data": {
      "text/plain": [
       "[<matplotlib.lines.Line2D at 0x25e48e12c70>]"
      ]
     },
     "execution_count": 86,
     "metadata": {},
     "output_type": "execute_result"
    },
    {
     "data": {
      "image/png": "[encoded data removed]",
      "text/plain": [
       "<Figure size 720x720 with 1 Axes>"
      ]
     },
     "metadata": {
      "needs_background": "light"
     },
     "output_type": "display_data"
    }
   ],
   "source": [
    "fig, ax = plt.subplots(figsize = (10,10))\n",
    "ax.plot(sol[:,0], sol[:,1])"
   ]
  },
  {
   "cell_type": "markdown",
   "metadata": {},
   "source": [
    "4. Take the resulting control points from part 3 of this problem and create the following new curves with new sets of points given by\n",
    "   1. `Q` where each $\\mathbf q_{i,j} = 2\\mathbf p_{i,j}$\n",
    "   2. `R` where each $\\mathbf r_{i,j} = \\begin{pmatrix} \\cos\\frac{\\pi}{4} & -\\sin\\frac{\\pi}{4}\\\\ \\sin\\frac{\\pi}{4} & \\cos\\frac{\\pi}{4}\\end{pmatrix}\\mathbf p_{i,j}$\n",
    "   3. `S` where each $\\mathbf s_{i,j} = \\begin{pmatrix} 1 & \\frac{1}{2}\\\\ 1 & 0\\end{pmatrix}\\mathbf p_{i,j} + \\frac{1}{2}\\begin{pmatrix}1\\\\1\\end{pmatrix}$\n",
    "   4. `T` where each $\\mathbf t_{i,j} = \\begin{pmatrix} -1 & -\\frac{1}{2}\\\\ 1 & 0\\end{pmatrix}\\mathbf p_{i,j} + \\frac{1}{2}\\begin{pmatrix}1\\\\-1\\end{pmatrix}$\n",
    "   where each $i=0,1,2,3$ and $j=0,\\ldots,m-1$"
   ]
  },
  {
   "cell_type": "code",
   "execution_count": 101,
   "metadata": {},
   "outputs": [],
   "source": [
    "def get_QRST(P):   \n",
    "    Q = np.copy(P)\n",
    "    R = np.copy(P)\n",
    "    S = np.copy(P)\n",
    "    T = np.copy(P)\n",
    "    for i in range(len(P[0,:])):\n",
    "        for j in range(4):\n",
    "            Q[j,i,:] = 2*P[j,i,:]\n",
    "            R[j,i,:] = np.array([[np.cos(np.pi/4), -np.sin(np.pi/4)], \n",
    "                                 [np.sin(np.pi/4), np.cos(np.pi/4)]])@P[j,i,:]\n",
    "            S[j,i,:] = np.array([[1, 1/2], \n",
    "                                 [1, 0]])@P[j,i,:] + np.array([1, 1])*0.5\n",
    "            T[j,i,:] = np.array([[-1, -1/2], \n",
    "                                 [1, 0]])@P[j,i,:] + np.array([1, -1])*0.5\n",
    "    return Q, R, S, T"
   ]
  },
  {
   "cell_type": "code",
   "execution_count": 102,
   "metadata": {},
   "outputs": [],
   "source": [
    "Q, R, S, T = get_QRST(P)"
   ]
  },
  {
   "cell_type": "code",
   "execution_count": 103,
   "metadata": {},
   "outputs": [],
   "source": [
    "ts = np.linspace(0,len(P[0,:])-0.001,100)\n",
    "solQ = np.array([compositBezier(Q, t) for t in ts])\n",
    "solR = np.array([compositBezier(R, t) for t in ts])\n",
    "solS = np.array([compositBezier(S, t) for t in ts])\n",
    "solT = np.array([compositBezier(T, t) for t in ts])"
   ]
  },
  {
   "cell_type": "code",
   "execution_count": 104,
   "metadata": {},
   "outputs": [
    {
     "data": {
      "text/plain": [
       "[<matplotlib.lines.Line2D at 0x25e499d05b0>]"
      ]
     },
     "execution_count": 104,
     "metadata": {},
     "output_type": "execute_result"
    },
    {
     "data": {
      "image/png": "[encoded data removed]",
      "text/plain": [
       "<Figure size 720x720 with 4 Axes>"
      ]
     },
     "metadata": {
      "needs_background": "light"
     },
     "output_type": "display_data"
    }
   ],
   "source": [
    "# fig, ax = plt.subplots(2,2, figsize = (10,10))\n",
    "# Q_max = max(max(solQ[:,0]),max(solQ[:,1]))\n",
    "# ax[0,0].set_xlim(-0.5*Q_max,0.5*Q_max)\n",
    "# ax[0,0].set_ylim(-0.5*Q_max,0.5*Q_max)\n",
    "# ax[0,0].plot(solQ[:,0], solQ[:,1])\n",
    "# ax[1,0].set_xlim(-0.5*Q_max,0.5*Q_max)\n",
    "# ax[1,0].set_ylim(-0.5*Q_max,0.5*Q_max)\n",
    "# ax[1,0].plot(solR[:,0], solR[:,1])\n",
    "# ax[0,1].set_xlim(-0.5*Q_max,0.5*Q_max)\n",
    "# ax[0,1].set_ylim(-0.5*Q_max,0.5*Q_max)\n",
    "# ax[0,1].plot(solS[:,0], solS[:,1])\n",
    "# ax[1,1].set_xlim(-0.5*Q_max,0.5*Q_max)\n",
    "# ax[1,1].set_ylim(-0.5*Q_max,0.5*Q_max)\n",
    "# ax[1,1].plot(solT[:,0], solT[:,1])\n",
    "fig, ax = plt.subplots(2,2, figsize = (10,10))\n",
    "ax[0,0].plot(solQ[:,0], solQ[:,1])\n",
    "ax[1,0].plot(solR[:,0], solR[:,1])\n",
    "ax[0,1].plot(solS[:,0], solS[:,1])\n",
    "ax[1,1].plot(solT[:,0], solT[:,1])"
   ]
  },
  {
   "cell_type": "markdown",
   "metadata": {},
   "source": [
    "## Problem 4: Optimisation with Bézier curves\n",
    "\n",
    "Similar to Problem 3, assume we have a composite cubic Bézier curve $\\mathbf B(t)$ (here just not necessarily periodic) with $m$ segments, i.e. control points $\\mathbf p_{0,1}, \\mathbf p_{1,1}, \\mathbf p_{2,1}, \\mathbf p_{3,1}, \\mathbf p_{0,2}, \\mathbf p_{1,2},\\ldots,\\mathbf p_{3,m}$.\n",
    "We denote its segments by $\\mathbf c_i\\colon [i-1,i] \\to \\mathbb R^2$, for  $i=1,\\ldots,m$.\n",
    "Then $\\mathbf B(t)$ is defined on $[0,m]$.\n",
    "Assume further that $\\mathbf B(t)$ is $C^{(1)}$."
   ]
  },
  {
   "cell_type": "markdown",
   "metadata": {},
   "source": [
    "1. Due to the property of $\\mathbf B(t)$ being continuous, we have\n",
    "   $\\mathbf p_{3,i} = \\mathbf p_{0,i+1}$ for $i=1,\\ldots,m-1$, so we can omit “storing” the redundant data of $\\mathbf p_{3,i}.$\n",
    "   \n",
    "   Similarly due to the differentiability we can express $\\mathbf p_{2,i}$ using $\\mathbf p_{0,i+1}$ and $\\mathbf p_{1,i+1}$ for each $i=1,\\ldots,m-1$. What does this expression look like?\n",
    "   \n",
    "   _Bonus question_: The “data” we store for $\\mathbf p_{2,i}$ and/or $\\mathbf p_{1,{i+1}}$ is just one vector in $\\mathbb R^d$. Can we phrase this information in terms of the velocity $\\mathbf v_{i+1}$ at $\\mathbf p_{0,i+1}$, i.e. such that from this velocity we can recover both “neighboring” points?"
   ]
  },
  {
   "cell_type": "markdown",
   "metadata": {},
   "source": [
    "Same as 3.2 but written in another convention.\n",
    "$$\n",
    "2c_{i+1, p_0}- c_{i, p_{n-1}} = c_{i+1, p_{1}} - 2c_{i+1, p_0} \\iff\n",
    "p_{2, i} = 2p_{0, i+1} - p_{1, i + 1}\n",
    "$$\n",
    "\n",
    "Bonus: From 3.2 we have the relation P[n-1,i] = A[i] - V[i], P[1,(i + 1)%m] = V[i] + A[i] in python code, just from translating to latex math we get:\n",
    "$$\n",
    "p_{2, i} = 2p_{0, i+1} - p_{1, i + 1} \\iff\n",
    "\\frac{p_{2, i} + p_{1, i + 1}}{2} = p_{0, i+1} $$\n"
   ]
  },
  {
   "cell_type": "markdown",
   "metadata": {},
   "source": [
    "2. We want to minimize the (squared) acceleration of the curve\n",
    "   $$\n",
    "   F(\\mathbf P)\n",
    "   =\n",
    "   \\int_{0}^{m} \\lVert \\mathbf B''(t) \\rVert^2 \\mathrm{d}t\n",
    "   ,\\qquad\\text{for some}\\quad\\lambda > 0\n",
    "   $$\n",
    "   with respect to the remaining control points\n",
    "   $$\n",
    "   \\mathbf P= [\\mathbf p_{0,1}, \\mathbf p_{1,1}, \\mathbf p_{0,2}, \\mathbf p_{1,2}, \\ldots, \\mathbf p_{0,m-1}, \\mathbf p_{1,m-1} \\mathbf p_{0,m}, \\mathbf p_{1,m}, \\mathbf p_{2,m}, \\mathbf p_{3,m}, ].\n",
    "   $$\n",
    "\n",
    "   For simplicity we only consider one segment, i.e. for $\\mathbf q_0,\\mathbf q_1, \\mathbf q_2, \\mathbf q_3 \\in \\mathbb R^2$, we consider the cubic Bézier curve $\\mathbf b_3(t; \\mathbf q_0, \\mathbf q_1, \\mathbf q_2, \\mathbf q_3)$.\n",
    "   \n",
    "   First derive a closed form for the integral\n",
    "   \n",
    "   $$\n",
    "   \\int_0^1 \\lVert \\mathbf b''_3(t; \\mathbf q_0, \\mathbf q_1, \\mathbf q_2, \\mathbf q_3) \\rVert_2^2\\ \\mathrm{d} t\n",
    "   $$\n",
    "   \n",
    "   in order to derive the gradient of \n",
    "   $$\n",
    "   \\tilde F (\\mathbf q_0, \\mathbf q_1, \\mathbf q_2, \\mathbf q_3) = \\int_0^1 \\lVert \\mathbf b''_3(t; \\mathbf q_0, \\mathbf q_1, \\mathbf q_2, \\mathbf q_3)\\rVert_2^2 \\ \\mathrm{d} t\n",
    "   $$\n",
    "   and with respect to the control points $\\mathbf q_i, i=0,\\ldots,3$.\n",
    "   \n",
    "   While we do not want to write down the whole gradient of $F$, please sketch how you can use the result of $\\tilde F$ to compute the gradient of $F$. Remember that $\\mathbf B(t)$ is continuously differentiable."
   ]
  },
  {
   "cell_type": "markdown",
   "metadata": {},
   "source": [
    "**Solution**\n",
    "\n",
    "\n",
    "Knows that the second derivative of a Bézier curve $\\mathbf c(t)$ is\n",
    "$$\n",
    "\\mathbf c''(t) = n(n-1)\\sum_{i=0}^{n}\\mathbf p_i\\left(B_{i-2,n-2}(t) + B_{i,n-2}(t) - 2B_{i-1,n-2}(t)\\right).\n",
    "$$\n",
    "Which in our case becomes \n",
    "$$\n",
    "\\mathbf b_3''(t;\\mathbf q_0, \\mathbf q_1, \\mathbf q_2, \\mathbf q_3) = 6\\sum_{i=0}^{3}\\mathbf q_i\\left(B_{i-2,1}(t) + B_{i,1}(t) - 2B_{i-1,1}(t)\\right) \n",
    "$$\n",
    "$$\n",
    "= 6\\left(\\mathbf q_0B_{0,1}(t) + \\mathbf q_1\\left(B_{1,1}(t) - 2B_{0,1}(t)\\right)+\\mathbf q_2\\left(B_{0,1}(t) - 2B_{1,1}(t)\\right) + \\mathbf q_3B_{1,1}(t)\\right)\n",
    "$$\n",
    "$$\n",
    "= 6\\left(B_{0,1}(t)\\left(\\mathbf q_0 - 2\\mathbf q_1 + \\mathbf q_2\\right) + B_{1,1}(t)\\left(\\mathbf q_1 - 2\\mathbf q_2 + \\mathbf q_3\\right)\\right) = (1-t)\\mathbf b_3''(0) + t\\mathbf b_3''(1).\n",
    "$$\n",
    "\n",
    "Where we have sat $\\mathbf b_3''(t;\\mathbf q_0, \\mathbf q_1, \\mathbf q_2, \\mathbf q_3) = \\mathbf b_3''(t)$ for simplicity. We can then write $\\tilde F(\\mathbf q_0, \\mathbf q_1, \\mathbf q_2, \\mathbf q_3)$ as\n",
    "\n",
    "$$\n",
    "\\tilde F(\\mathbf q_0, \\mathbf q_1, \\mathbf q_2, \\mathbf q_3) = \\int_{0}^1\\|(1-t)\\mathbf b_3''(0) + t\\mathbf b_3''(1)\\|^2_2 dt = \\int_0^1\\sum_{i = 1}^2\\Big((1-t)\\mathbf b_3''(0)_i + t\\mathbf b_3''(1)_i\\Big)^2 dt\n",
    "$$\n",
    "$$\n",
    "= \\sum_{i= 1}^2\\int_0^1(1-t)^2(\\mathbf b_3''(0)_i)^2 + 2(1-t)t\\mathbf b_3''(0)_i\\mathbf b_3''(1)_i + t^2(\\mathbf b_3''(1)_i)^2 dt\n",
    "$$\n",
    "$$\n",
    "= \\frac13 \\sum_{i = 1}^2\\left((\\mathbf b_3''(0)_i)^2 + \\mathbf b_3''(0)_i \\mathbf b_3''(1)_i + (\\mathbf b_3''(1)_i)^2\\right) = \\frac13 \\sum_{i = 1}^2\\left((\\mathbf b_3''(0)_i + \\mathbf b_3''(1)_i)^2 - \\mathbf b_3''(0)_i\\mathbf b_3''(1)_i\\right)\n",
    "$$\n",
    "$$\n",
    "= \\frac13\\left(\\|\\mathbf b_3''(0) + \\mathbf b_3''(1)\\|_2^2 - \\mathbf b_3''(0)^T\\mathbf b_3''(1)\\right).\n",
    "$$\n",
    "\n",
    "We can express this in terms of the coordinates $\\mathbf q_0, \\mathbf q_1, \\mathbf q_2, \\mathbf q_3$.\n",
    "\n",
    "$$\n",
    "\\tilde F(\\mathbf q_0, \\mathbf q_1, \\mathbf q_2, \\mathbf q_3)  = 6^2\\frac13\\left(\\|\\mathbf q_0 - \\mathbf q_1 - \\mathbf q_2 + \\mathbf q_3\\|_2^2 - (\\mathbf q_0^T - 2\\mathbf q_1^T + \\mathbf q_2^T)(\\mathbf q_1 - 2\\mathbf q_2 + \\mathbf q_3)\\right).\n",
    "$$\n",
    "We look at the terms individually.\n",
    "$$\n",
    "(\\mathbf q_0^T - 2\\mathbf q_1^T + \\mathbf q_2^T)(\\mathbf q_1 - 2\\mathbf q_2 + \\mathbf q_3)\n",
    "$$\n",
    "$$\n",
    "= \\mathbf q_0^T\\mathbf q_1 - 2\\mathbf q_0^T\\mathbf q_2 + \\mathbf q_0^T\\mathbf q_3 - 2\\mathbf q_1^T\\mathbf q_1 + 5 \\mathbf q_1^T\\mathbf q_2 - 2\\mathbf q_1^T\\mathbf q_3 - 2\\mathbf q_2^T\\mathbf q_2 + \\mathbf q_2^T\\mathbf q_3.\n",
    "$$\n",
    "\n",
    "$$\n",
    "\\|\\mathbf q_0 - \\mathbf q_1 - \\mathbf q_2 + \\mathbf q_3\\|_2^2 = \\left(\\mathbf q_0 - \\mathbf q_1 - \\mathbf q_2 + \\mathbf q_3\\right)^T\\left(\\mathbf q_0 - \\mathbf q_1 - \\mathbf q_2 + \\mathbf q_3\\right)\n",
    "$$\n",
    "$$\n",
    "= \\mathbf q_0^T\\mathbf q_0 + \\mathbf q_1^T\\mathbf q_1 + \\mathbf q_2^T\\mathbf q_2 + \\mathbf q_3^T\\mathbf q_3 - 2\\mathbf q_0^T\\mathbf q_1 - 2\\mathbf q_0^T\\mathbf q_2 + \\mathbf q_0^T\\mathbf q_3 + 2\\mathbf q_1^T\\mathbf q_2 - 2 \\mathbf q_1^T\\mathbf q_3 - 2\\mathbf q_2^T\\mathbf q_3.\n",
    "$$\n",
    "\n",
    "Where we have used that $\\mathbf q_i^T\\mathbf q_j = \\mathbf q_j^T\\mathbf q_i$ for vectors $\\mathbf q_i, \\mathbf q_j$ in $ \\mathbb R^d $.\n",
    "We now put these terms together and get that \n",
    "$$\n",
    "\\tilde F(\\mathbf q_0, \\mathbf q_1, \\mathbf q_2, \\mathbf q_3) =12\\left( \\mathbf q_0^T\\mathbf q_0 + 3\\mathbf q_1^T\\mathbf q_1 + 3\\mathbf q_2^T\\mathbf q_2 + \\mathbf q_3^T\\mathbf q_3 - 3\\mathbf q_0^T\\mathbf q_1 + \\mathbf q_0^T\\mathbf q_3 - 3\\mathbf q_1^T\\mathbf q_2 - 3\\mathbf q_2^T\\mathbf q_3\\right).\n",
    "$$\n",
    "\n",
    "Now we can take the gradient of $\\tilde F(\\mathbf q_0, \\mathbf q_1, \\mathbf q_2, \\mathbf q_3)$ with respect to $\\mathbf q_0, \\mathbf q_1, \\mathbf q_2, \\mathbf q_3$.\n",
    "\n",
    "$$\n",
    "\\nabla\\tilde F(\\mathbf q_0, \\mathbf q_1, \\mathbf q_2, \\mathbf q_3) = 12\n",
    "\\begin{pmatrix}\n",
    "2\\mathbf q_0 - 3\\mathbf q_1 + \\mathbf q_3 \\\\\n",
    "6\\mathbf q_1 - 3\\mathbf q_0 - 3\\mathbf q_2 \\\\\n",
    "6\\mathbf q_2 - 3\\mathbf q_1 - 3\\mathbf q_3 \\\\\n",
    "2 \\mathbf q_3 + \\mathbf q_0 - 3\\mathbf q_2\n",
    "\\end{pmatrix} \\in \\mathbb R^8\n",
    "$$\n",
    "\n",
    "We are now capable of expressing the gradient of $F$.\n",
    "Since the curve is composite, when can disolve the integral into a sum. If we let $\\mathbf P_i = (\\mathbf p_{0,i}, \\mathbf p_{1,i}, \\mathbf p_{2,i}, \\mathbf p_{3,i})$ we can write\n",
    "$$\n",
    "\\nabla F(\\mathbf P) = \\nabla \\sum_{i = 1}^m \\tilde F(\\mathbf P_i) \n",
    "$$\n",
    "$$\n",
    "= 12\\nabla\\Biggl( \\sum_{i = 1}^{m} \\left( \\mathbf p_{0,i}^T\\mathbf p_{0,i} + 3\\mathbf p_{1,i}^T\\mathbf p_{1,i} + 3\\mathbf p_{2,i}^T\\mathbf p_{2,i} + \\mathbf p_{3,i}^T\\mathbf p_{3,i} - 3\\mathbf p_{0,i}^T\\mathbf p_{1,i} + \\mathbf p_{0,i}^T\\mathbf p_{3,i} - 3\\mathbf p_{1,i}^T\\mathbf p_{2,i} - 3\\mathbf p_{2,i}^T\\mathbf p_{3,i}\\right)\\Biggr)\n",
    "$$\n",
    "\n",
    "If we now use that $\\mathbf p_{3,i} = \\mathbf p_{0,i+1}$ and that $\\mathbf p_{2,i} = 2\\mathbf p_{0,i+1} - \\mathbf p_{1,i+1}$ due to continuity and continuity in the first derivative, we can express $\\nabla F(\\mathbf P)$ as\n",
    "\n",
    "$$\n",
    "12\\nabla\\Biggl(\\mathbf p_{0,1}^T\\mathbf p_{0,1} + 3\\mathbf p_{1,1}^T\\mathbf p_{1,1} - 3\\mathbf p_{0,1}^T\\mathbf p_{1,1} + 3\\mathbf p_{2,m}^T\\mathbf p_{2,m} + \\mathbf p_{3,m}^T\\mathbf p_{3,m} + \\mathbf p_{0,m}^T\\mathbf p_{3,m} - 3\\mathbf p_{1,m}^T\\mathbf p_{2,m}\n",
    "+\\sum_{i = 2}^{m} \\left( 8\\mathbf p_{0,i}^T\\mathbf p_{0,i} + 6\\mathbf p_{1,i}^T\\mathbf p_{1,i} -12\\mathbf p_{0,i}^T\\mathbf p_{1,i} + \\mathbf p_{0,i-1}^T\\mathbf p_{0,i} + 3\\mathbf p_{1,i-1}^T\\mathbf p_{1,i-1} - 6\\mathbf p_{1,i-1}^T\\mathbf p_{0,i}\\right)\\Biggr).\n",
    "$$\n",
    "$$\n",
    "= 12\\begin{pmatrix}\n",
    "2\\mathbf p_{0,1} - 3\\mathbf p_{1,1} + \\mathbf p_{0,2} \\\\\n",
    "12 \\mathbf p_{1,1} - 3\\mathbf p_{0,1} - 6 \\mathbf p_{0,2} \\\\\n",
    "\\vdots \\\\\n",
    "16\\mathbf p_{0,i} - 12 \\mathbf p_{1,i} + \\mathbf p_{0,i-1} - 6 \\mathbf p_{1,i-1} \\\\\n",
    "12\\mathbf p_{1,i} - 12 \\mathbf p_{0,i} \\\\\n",
    "\\vdots \\\\\n",
    "\\mathbf p_{3,m} + 16 \\mathbf p_{0,m} - 12 \\mathbf p_{1,m} + \\mathbf p_{0,m-1} - 6\\mathbf p_{1,m-1} \\\\\n",
    "-3 \\mathbf p_{2,m} + 12 \\mathbf p_{1,m} - 12 \\mathbf p_{0,m} \\\\\n",
    "6\\mathbf p_{2,m} - 3\\mathbf p_{1,m} \\\\\n",
    "2\\mathbf p_{3,m} +\\mathbf p_{0,m}\n",
    "\\end{pmatrix}\n",
    "$$\n",
    "\n",
    "Which is an expression consisting of $m$ $\\mathbf p_{0,i}$, $m$ $\\mathbf p_{1,i}$, one $\\mathbf p_{2,m}$ and one $\\mathbf p_{3,m}$, i.e $2m + 2$ diffrent vectors in $\\mathbb R^2$. Therefore we expect the gradient to be of dimension $4m + 4$."
   ]
  },
  {
   "cell_type": "markdown",
   "metadata": {},
   "source": [
    "3. Look at the first order optimality conditions of the optimisation task to minimize $\\tilde F$ from the last part.\n",
    "   How can we find such a minimiser?\n",
    "   Is the solution unique?\n",
    "   \n",
    "   For the overall problem $F$ we even have to take into account the properties from the fist part. What about the solution now? Is it unique? You may argue intuitively here or provide a concrete example of two minimisers for a 2-segment curve, i.e. $m=2$."
   ]
  },
  {
   "cell_type": "markdown",
   "metadata": {},
   "source": [
    "We find the minimiser of $\\tilde F$ by solving $\\nabla \\tilde F = \\mathbf 0$, i.e\n",
    "$$\n",
    "\\nabla\\tilde F(\\mathbf q_0, \\mathbf q_1, \\mathbf q_2, \\mathbf q_3) = 12\n",
    "\\begin{pmatrix}\n",
    "2\\mathbf q_0 - 3\\mathbf q_1 + \\mathbf q_3 \\\\\n",
    "6\\mathbf q_1 - 3\\mathbf q_0 - 3\\mathbf q_2 \\\\\n",
    "6\\mathbf q_2 - 3\\mathbf q_1 - 3\\mathbf q_3 \\\\\n",
    "2 \\mathbf q_3 + \\mathbf q_0 - 3\\mathbf q_2\n",
    "\\end{pmatrix} = \\mathbf 0.\n",
    "$$\n",
    "Which then is a system with eight equations and $4 \\cdot 2 = 8$ unknowns, in other terms the solution of this system will be unique if it exists.\n",
    "\n",
    "For the overall problem $F$ we want to solve $\\nabla F = \\mathbf 0$. Which means that we are dealing with $m$ $\\mathbf p_{0,i}$, $m$ $\\mathbf p_{1,i}$, 1 $\\mathbf p_{2,m}$ and 1 $\\mathbf p_{3,m}$ which all have two coordinates, meaning that in total we have a system of eight equations and $(2m +2)\\cdot 2 = 4m + 4$ unknowns. Thus if $m = 1 $ we can have a unique solution, elsewhere we have too few equations for this system to have an unique solution. "
   ]
  },
  {
   "cell_type": "markdown",
   "metadata": {},
   "source": [
    "4. Assume we extend the problem to have some (data) points $\\mathbf d_i \\in \\mathbb R^2$, $i=0,\\ldots,m$ given and we extend the problem to\n",
    "   $$\n",
    "   G_\\lambda(\\mathbf P)\n",
    "   =\n",
    "   \\frac{\\lambda}{2}\\sum_{i=0}^{m} \\lVert \\mathbf d_i - \\mathbf B(i) \\rVert_2^2 + \\int_{0}^{m} \\lVert   \\mathbf B''(t) \\rVert^2 \\mathrm{d}t\n",
    "   ,\\qquad\\text{for some}\\quad\\lambda > 0\n",
    "   $$\n",
    "   \n",
    "   We again can first look at the simplified problem: Given two points $\\mathbf s, \\mathbf e \\in \\mathbb R^2$ consider for some $\\lambda > 0$ the function for one segment, namely\n",
    "   \n",
    "   $$\n",
    "   \\begin{split}\n",
    "   \\tilde G_\\lambda(\\mathbf q_0, \\mathbf q_1, \\mathbf q_2, \\mathbf q_3) &= \\frac{\\lambda}{2}\\Bigl( \\lVert \\mathbf s - \\mathbf b_3(0; \\mathbf q_0, \\mathbf q_1, \\mathbf q_2, \\mathbf q_3) \\rVert_2^2 + \\lVert \\mathbf e - \\mathbf b_3(1; \\mathbf q_0, \\mathbf q_1, \\mathbf q_2, \\mathbf q_3) \\rVert_2^2\\Bigr) + \\tilde F (\\mathbf q_0, \\mathbf q_1, \\mathbf q_2, \\mathbf q_3)\\\\\n",
    "   &=\n",
    "   \\frac{\\lambda}{2}\\Bigl( \\lVert \\mathbf s - \\mathbf q_0 \\rVert_2^2 + \\lVert \\mathbf e - \\mathbf q_3 \\rVert_2^2\\Bigr) + \\tilde F (\\mathbf q_0, \\mathbf q_1, \\mathbf q_2, \\mathbf q_3)\n",
    "   \\end{split}\n",
    "   $$\n",
    "   \n",
    "   Does this change the question about uniqueness?\n",
    "   Without programming / testing, just intuitively:\n",
    "   What does this model do, if you let $\\lambda$ tend to zero? What does it do, if you let $\\lambda$ tend to $\\infty$?\n",
    "   \n",
    "   Similarly to part 3 of this problem, what does change for $G_\\lambda$ in comparison to $F$ concerning uniqueness? what does the $\\lambda$ change here (if very large or very small)?"
   ]
  },
  {
   "cell_type": "markdown",
   "metadata": {},
   "source": [
    "**Solution**\n",
    "$$\n",
    "\\nabla \\frac{\\lambda}{2}\\Bigl( \\lVert \\mathbf s - \\mathbf q_0 \\rVert_2^2 + \\lVert \\mathbf e - \\mathbf q_3 \\rVert_2^2\\Bigr)\n",
    "= \\lambda \\begin{pmatrix}\\mathbf q_0 - \\mathbf s \\\\ 0 \\\\ 0 \\\\ \\mathbf q_3 - \\mathbf e\\end{pmatrix}\n",
    "$$\n",
    "\n",
    "This means that \n",
    "$$ \\nabla \\tilde G_\\lambda = \\lambda \\begin{pmatrix}\\mathbf q_0 - \\mathbf s \\\\ 0 \\\\ 0 \\\\ \\mathbf q_3 - \\mathbf e\\end{pmatrix} + 12\n",
    "\\begin{pmatrix}\n",
    "2\\mathbf q_0 - 3\\mathbf q_1 + \\mathbf q_3 \\\\\n",
    "6\\mathbf q_1 - 3\\mathbf q_0 - 3\\mathbf q_2 \\\\\n",
    "6\\mathbf q_2 - 3\\mathbf q_1 - 3\\mathbf q_3 \\\\\n",
    "2 \\mathbf q_3 + \\mathbf q_0 - 3\\mathbf q_2\n",
    "\\end{pmatrix} = \\mathbf 0.\n",
    "$$\n",
    "\n"
   ]
  },
  {
   "cell_type": "markdown",
   "metadata": {},
   "source": [
    "<!-- We have the same amount of equations (dimension of parameter space), but we get another $2$ constraints by the first term\n",
    "$\\frac{\\lambda}{2}\\Bigl( \\lVert \\mathbf s - \\mathbf q_0 \\rVert_2^2 + \\lVert \\mathbf e - \\mathbf q_3 \\rVert_2^2\\Bigr)$, or $m+1$ more constraints for $G_\\lambda$. This makes the solution in $m = 3$ unique by matching constraints with unknowns in each of the gradients of $G_\\lambda$, and for $m = 1$ and $m = 2$ we get overdetermined systems of equations, which will solve for some $d_i \\in \\mathbb R^2$, and for others the mi -->\n",
    "\n",
    "As long as $\\lambda$ is not something exact that cancels terms in the gradient equation, no additional constraints are provided, and the uniqueness of minimizers will be the same as befor.\n",
    "\n",
    "A big $\\lambda$ makes the first term in $\\tilde G_{\\lambda}$ much greater than the second term for $p_0$ and $p_3$, so those must be chosen to be $s$ and $e$ respectivly. The two others points are then chosen as the $p_1$ and $p_2$ that solve the system\n",
    "$$\\begin{pmatrix}\n",
    "6\\mathbf q_1 - 3\\mathbf q_2 \\\\\n",
    "6\\mathbf q_2 - 3\\mathbf q_1 \\\\\n",
    "\\end{pmatrix} = \\begin{pmatrix}\n",
    "3\\mathbf s \\\\\n",
    "3\\mathbf e \\\\\n",
    "\\end{pmatrix}\n",
    "$$\n",
    "\n",
    "A small $\\lambda$ reduses the problem to that of $3.3$."
   ]
  },
  {
   "cell_type": "markdown",
   "metadata": {},
   "source": [
    "5. Use the previous parts to derive a gradient descent algorithm to minimize $G_\\lambda(\\mathbf P)$ with respect to the control points $\\mathbf P$. You may use a constant step size.\n",
    "\n",
    "   Take as an example your letter from Problem 3 as input $\\mathbf P$ for your algorithm and two different values of $\\lambda$. How does the letter change?"
   ]
  },
  {
   "cell_type": "code",
   "execution_count": 156,
   "metadata": {},
   "outputs": [],
   "source": [
    "def steepestdescent(A,b,x0,tol,maxiter, timetrack = False):\n",
    "    count = 0\n",
    "    r0 = b - A@x0\n",
    "    r = r0\n",
    "    error = 1\n",
    "    x = x0\n",
    "    \n",
    "    #Tracking time\n",
    "    if timetrack:\n",
    "        current_time1 = datetime.now()\n",
    "\n",
    "    while error > tol: #norm = the standard 2-norm\n",
    "        \n",
    "        count += 1\n",
    "        \n",
    "        ################## All but this block are identical across the methods ##########################\n",
    "        \n",
    "        \n",
    "        w = np.transpose(r) @ r / (np.transpose(r) @ A @ r)\n",
    "        x_new = x + w*r\n",
    "        r = r - w*A@r\n",
    "        \n",
    "       \n",
    "        ################# End of uniqueness #####################\n",
    "        x = x_new\n",
    "        error = np.linalg.norm(r)/np.linalg.norm(r0)\n",
    "        if count > maxiter:\n",
    "            print(\"Error: Tollerance not reached before maxiter\")\n",
    "            return\n",
    "    print(\"Solution with error under tolerance reached \\n\")\n",
    "    \n",
    "    if timetrack:\n",
    "        current_time2 = datetime.now()\n",
    "        print(\"Time elapsed =\", current_time2-current_time1)\n",
    "    print(f\"Final error = {error:.2e} \\nNumber of iterations = {count}\")\n",
    "    \n",
    "    return x, error, count"
   ]
  },
  {
   "cell_type": "markdown",
   "metadata": {},
   "source": [
    "$$\n",
    "A =\\sum_{i=1}^{m}\n",
    "\\lambda \\begin{pmatrix}\\mathbf p_{0,i} \\\\ 0 \\\\ 0 \\\\ \\mathbf p_{3,i}\\end{pmatrix}\n",
    "+12\n",
    "\\begin{pmatrix}\n",
    "2\\mathbf p_{0,1} - 3\\mathbf p_{1,1} + \\mathbf p_{3,m} \\\\\n",
    "6\\mathbf p_{1,1} - 3 \\mathbf p_{0,1} - 3\\mathbf p_{2,m} \\\\\n",
    "6\\mathbf p_{2,m} - 3 \\mathbf p_{1,1} - 3\\mathbf p_{3,m}\\\\\n",
    "2\\mathbf p_{3,m} + \\mathbf p_{0,1} - 3 \\mathbf p_{2,m}\n",
    "\\end{pmatrix}\n",
    "+12\\sum_{i = 2}^m\n",
    "\\begin{pmatrix}\n",
    "3\\mathbf p_{0,i} - 3\\mathbf p_{1,i} \\\\\n",
    "9 \\mathbf p_{1,i} - 9 \\mathbf p_{0,i} \\\\\n",
    "9 \\mathbf p_{0,i} - 9\\mathbf p_{1,i} \\\\\n",
    "3\\mathbf p_{0,i} - 3\\mathbf p_{1,i} \\\\\n",
    "\\end{pmatrix}.\n",
    "$$\n",
    "$$\n",
    "b = \\sum_{i=1}^{m}\n",
    "\\lambda \\begin{pmatrix}\\mathbf d_{i-1} \\\\ 0 \\\\ 0 \\\\ \\mathbf d_{i}\\end{pmatrix}\n",
    "$$\n",
    "\n",
    "$$\n",
    "x_0 = P\n",
    "$$"
   ]
  },
  {
   "cell_type": "code",
   "execution_count": 184,
   "metadata": {},
   "outputs": [],
   "source": [
    "def gausseidel(A,b,x0,tol,maxiter):\n",
    "    count = 0\n",
    "    r0 = b - A@x0\n",
    "    r = r0\n",
    "    error = 1\n",
    "    x = x0\n",
    "    \n",
    "    #Tracking time\n",
    "    current_time1 = datetime.now()\n",
    "    \n",
    "    #Additive splitting\n",
    "    F = np.triu(A,1)\n",
    "    N = F\n",
    "    P = A + N\n",
    "    while error > tol: #norm = the standard 2-norm\n",
    "        \n",
    "        count += 1\n",
    "        \n",
    "        ################## All but block are identical across the methods (exept the additive split done over for this one)\n",
    "        \n",
    "        r = b - A@x\n",
    "        x_new = x + lng.solve_triangular(P,r)\n",
    "        \n",
    "       \n",
    "        ################# End of uniqueness #####################\n",
    "        x = x_new\n",
    "        error = np.linalg.norm(r)/np.linalg.norm(r0)\n",
    "        if count > maxiter:\n",
    "            print(\"Error: Tollerance not reached before maxiter\")\n",
    "            return x, error, count\n",
    "    print(\"Solution with error under tolerance reached \\n\")\n",
    "    \n",
    "    current_time2 = datetime.now()\n",
    "    print(\"Time elapsed =\", current_time2-current_time1)\n",
    "    print(f\"Final error = {error:.2e} \\nNumber of iterations = {count}\")\n",
    "    \n",
    "    return x, error, count"
   ]
  },
  {
   "cell_type": "code",
   "execution_count": 249,
   "metadata": {},
   "outputs": [],
   "source": [
    "def make_A(d, lamb):\n",
    "    m = len(d)\n",
    "    A = np.zeros((8*m, 8*m))\n",
    "    A = np.zeros(((m-1)*4 + 8,(m-1)*4 + 8))\n",
    "    for i in range(m):\n",
    "        if i == 0:\n",
    "            grad_F = 12* np.array([[2, 3, 0, 1, 0, 0, 0, 0], #A[0:8,0:8]\n",
    "                                   [0, 0, 0, 0, 2, 3, 0, 1], \n",
    "                                   [-3, 6, -3, 0, 0, 0, 0, 0], \n",
    "                                   [0, 0, 0, 0, -3, 6, -3, 0],\n",
    "                                   [0, -3, 6, -3, 0, 0, 0, 0], \n",
    "                                   [0, 0, 0, 0, 0, -3, 6, -3], \n",
    "                                   [1, 0, -3, 2, 0, 0, 0, 0], \n",
    "                                   [0, 0, 0, 0, 1, 0, -3, 2]])\n",
    "            A[8*i:8*i + 8, 8*i:8*i + 8] = grad_F + lamb*np.array([[1, 0, 0, 0, 0, 0, 0, 0], \n",
    "                                                                  [0, 0, 0, 0, 1, 0, 0, 0],\n",
    "                                                                  [0, 0, 0, 0, 0, 0, 0, 0], \n",
    "                                                                  [0, 0, 0, 0, 0, 0, 0, 0],\n",
    "                                                                  [0, 0, 0, 0, 0, 0, 0, 0], \n",
    "                                                                  [0, 0, 0, 0, 0, 0, 0, 0], \n",
    "                                                                  [0, 0, 0, 1, 0, 0, 0, 0], \n",
    "                                                                  [0, 0, 0, 0, 0, 0, 0, 1]])\n",
    "        else:\n",
    "            grad_F = 12* np.array([[2, 3, 0, 1, 0, 0, 0, 0], #A[4:12,4:12]\n",
    "                                   [0, 0, 0, 0, 2, 3, 0, 1], \n",
    "                                   [-3, 6, -3, 0, 0, 0, 0, 0], \n",
    "                                   [0, 0, 0, 0, -3, 6, -3, 0],\n",
    "                                   [0, -3, 6, -3, 0, 0, 0, 0], \n",
    "                                   [0, 0, 0, 0, 0, -3, 6, -3], \n",
    "                                   [1, 0, -3, 2, 0, 0, 0, 0], \n",
    "                                   [0, 0, 0, 0, 1, 0, -3, 2]])\n",
    "#             print(\"Shape: \", np.shape(A[4*i:+4*i + 8,4*i:4*i + 8]),\" starting at:\", 4*i, '\\n')\n",
    "#             print(\"Before: \", A[4*i:+4*i + 8,4*i:4*i + 8])\n",
    "            A[4*i:+4*i + 8,4*i:4*i + 8] += grad_F + lamb*np.array([[1, 0, 0, 0, 0, 0, 0, 0], \n",
    "                                                                                      [0, 0, 0, 0, 1, 0, 0, 0],\n",
    "                                                                                      [0, 0, 0, 0, 0, 0, 0, 0], \n",
    "                                                                                      [0, 0, 0, 0, 0, 0, 0, 0],\n",
    "                                                                                      [0, 0, 0, 0, 0, 0, 0, 0], \n",
    "                                                                                  [0, 0, 0, 0, 0, 0, 0, 0], \n",
    "                                                                                      [0, 0, 0, 1, 0, 0, 0, 0], \n",
    "                                                                                      [0, 0, 0, 0, 0, 0, 0, 1]])\n",
    "#             print(\"\\n After: \", A[4*i:+4*i + 8,4*i:4*i + 8])\n",
    "            \n",
    "    return A\n",
    "        \n",
    "        \n",
    "        \n",
    "    \n",
    "    "
   ]
  },
  {
   "cell_type": "markdown",
   "metadata": {},
   "source": [
    "Neste gang: Legge inn constraints i A og b. ligningsystemet AP = b er nå uløslig da A er singulær. b har skal ha 2m + 4 ukjente entries bare, da kun to punkter er ukjene for alle bezier curver utenom den første om kontinuitet i den første deriverte skal være oppfylt. "
   ]
  },
  {
   "cell_type": "code",
   "execution_count": 278,
   "metadata": {},
   "outputs": [],
   "source": [
    "def make_b(d, lamb):\n",
    "    m = len(d) #Cubic\n",
    "    b = np.zeros((8*m))\n",
    "    b = np.zeros((m-1)*4 + 8)\n",
    "\n",
    "    for i in range(m - 1):\n",
    "        if i == 0:\n",
    "            b00 = d[i][0]\n",
    "            b01= d[i][1]\n",
    "            b30 = d[i+1][0]\n",
    "            b31= d[i+1][1]\n",
    "            b[:8] = lamb*np.array([b00, 0, 0, b30, b01, 0, 0, b31])\n",
    "        else:\n",
    "            b30 = d[i+1][0]\n",
    "            b31= d[i+1][1]\n",
    "            b[4*i:4*i+4] = lamb*np.array([0, b30, 0, b31])#Since the first two points are already decided for satisifying\n",
    "            # k=1 continuity       \n",
    "    return b"
   ]
  },
  {
   "cell_type": "code",
   "execution_count": 293,
   "metadata": {},
   "outputs": [
    {
     "name": "stdout",
     "output_type": "stream",
     "text": [
      "[[ 25.  36.   0.  12.   0.   0.   0.   0.   0.   0.   0.   0.]\n",
      " [  0.   0.   0.   0.  25.  36.   0.  12.   0.   0.   0.   0.]\n",
      " [-36.  72. -36.   0.   0.   0.   0.   0.   0.   0.   0.   0.]\n",
      " [  0.   0.   0.   0. -36.  72. -36.   0.   0.   0.   0.   0.]\n",
      " [  0. -36.  72. -36.  25.  36.   0.  12.   0.   0.   0.   0.]\n",
      " [  0.   0.   0.   0.   0. -36.  72. -36.  25.  36.   0.  12.]\n",
      " [ 12.   0. -36.  25. -36.  72. -36.   0.   0.   0.   0.   0.]\n",
      " [  0.   0.   0.   0.  12.   0. -36.  25. -36.  72. -36.   0.]\n",
      " [  0.   0.   0.   0.   0. -36.  72. -36.   0.   0.   0.   0.]\n",
      " [  0.   0.   0.   0.   0.   0.   0.   0.   0. -36.  72. -36.]\n",
      " [  0.   0.   0.   0.  12.   0. -36.  25.   0.   0.   0.   0.]\n",
      " [  0.   0.   0.   0.   0.   0.   0.   0.  12.   0. -36.  25.]]\n",
      "(12, 12)\n",
      "[ 0.  0.  0. -2.  1.  0.  0.  1.  0.  0.  0.  0.]\n",
      "(12,)\n"
     ]
    },
    {
     "data": {
      "text/plain": [
       "array([-1.313,  0.023,  1.359,  2.667,  0.354, -0.023, -0.345, -0.667,\n",
       "       -0.177,  0.012,  0.173,  0.333])"
      ]
     },
     "execution_count": 293,
     "metadata": {},
     "output_type": "execute_result"
    }
   ],
   "source": [
    "lamb_eks = 1\n",
    "A_eks = make_A(A[2:4], lamb_eks)\n",
    "b_eks = make_b(A[2:4], lamb_eks)\n",
    "print(A_eks)\n",
    "print(np.shape(A_eks))\n",
    "print(b_eks)\n",
    "print(np.shape(b_eks))\n",
    "\n",
    "np.linalg.solve(A_eks,b_eks)"
   ]
  },
  {
   "cell_type": "code",
   "execution_count": 280,
   "metadata": {},
   "outputs": [
    {
     "name": "stdout",
     "output_type": "stream",
     "text": [
      "[[[ 1.     1.   ]\n",
      "  [ 1.    -3.   ]\n",
      "  [ 0.    -3.   ]\n",
      "  [ 0.     1.   ]\n",
      "  [-2.     1.   ]\n",
      "  [-2.     2.   ]\n",
      "  [ 3.     2.   ]\n",
      "  [ 3.     1.   ]]\n",
      "\n",
      " [[ 1.     0.833]\n",
      "  [ 0.833 -3.   ]\n",
      "  [ 0.    -2.833]\n",
      "  [-0.167  1.   ]\n",
      "  [-2.     1.167]\n",
      "  [-1.833  2.   ]\n",
      "  [ 3.     1.833]\n",
      "  [ 2.833  1.   ]]\n",
      "\n",
      " [[ 1.167 -3.   ]\n",
      "  [ 0.    -3.167]\n",
      "  [ 0.167  1.   ]\n",
      "  [-2.     0.833]\n",
      "  [-2.167  2.   ]\n",
      "  [ 3.     2.167]\n",
      "  [ 3.167  1.   ]\n",
      "  [ 1.     1.167]]\n",
      "\n",
      " [[ 1.    -3.   ]\n",
      "  [ 0.    -3.   ]\n",
      "  [ 0.     1.   ]\n",
      "  [-2.     1.   ]\n",
      "  [-2.     2.   ]\n",
      "  [ 3.     2.   ]\n",
      "  [ 3.     1.   ]\n",
      "  [ 1.     1.   ]]]\n"
     ]
    }
   ],
   "source": [
    "x0 = np.ravel(P)[0:36]\n",
    "print(P)\n",
    "maxiter = 1000\n",
    "tol = 1E-7\n",
    "from scipy.optimize import minimize"
   ]
  },
  {
   "cell_type": "code",
   "execution_count": 179,
   "metadata": {},
   "outputs": [],
   "source": [
    "# sol = minimize(A, x0)"
   ]
  },
  {
   "cell_type": "code",
   "execution_count": 281,
   "metadata": {},
   "outputs": [
    {
     "ename": "LinAlgError",
     "evalue": "singular matrix: resolution failed at diagonal 1",
     "output_type": "error",
     "traceback": [
      "\u001b[1;31m---------------------------------------------------------------------------\u001b[0m",
      "\u001b[1;31mLinAlgError\u001b[0m                               Traceback (most recent call last)",
      "\u001b[1;32m<ipython-input-281-f4d1bda71047>\u001b[0m in \u001b[0;36m<module>\u001b[1;34m\u001b[0m\n\u001b[1;32m----> 1\u001b[1;33m \u001b[0msol\u001b[0m\u001b[1;33m,\u001b[0m \u001b[0merror\u001b[0m\u001b[1;33m,\u001b[0m \u001b[0mcount\u001b[0m \u001b[1;33m=\u001b[0m \u001b[0mgausseidel\u001b[0m\u001b[1;33m(\u001b[0m\u001b[0mA_eks\u001b[0m\u001b[1;33m,\u001b[0m\u001b[0mb_eks\u001b[0m\u001b[1;33m,\u001b[0m\u001b[0mx0\u001b[0m\u001b[1;33m,\u001b[0m\u001b[0mtol\u001b[0m\u001b[1;33m,\u001b[0m\u001b[0mmaxiter\u001b[0m\u001b[1;33m)\u001b[0m\u001b[1;33m\u001b[0m\u001b[1;33m\u001b[0m\u001b[0m\n\u001b[0m",
      "\u001b[1;32m<ipython-input-184-7694fe582f6d>\u001b[0m in \u001b[0;36mgausseidel\u001b[1;34m(A, b, x0, tol, maxiter)\u001b[0m\n\u001b[0;32m     20\u001b[0m \u001b[1;33m\u001b[0m\u001b[0m\n\u001b[0;32m     21\u001b[0m         \u001b[0mr\u001b[0m \u001b[1;33m=\u001b[0m \u001b[0mb\u001b[0m \u001b[1;33m-\u001b[0m \u001b[0mA\u001b[0m\u001b[1;33m@\u001b[0m\u001b[0mx\u001b[0m\u001b[1;33m\u001b[0m\u001b[1;33m\u001b[0m\u001b[0m\n\u001b[1;32m---> 22\u001b[1;33m         \u001b[0mx_new\u001b[0m \u001b[1;33m=\u001b[0m \u001b[0mx\u001b[0m \u001b[1;33m+\u001b[0m \u001b[0mlng\u001b[0m\u001b[1;33m.\u001b[0m\u001b[0msolve_triangular\u001b[0m\u001b[1;33m(\u001b[0m\u001b[0mP\u001b[0m\u001b[1;33m,\u001b[0m\u001b[0mr\u001b[0m\u001b[1;33m)\u001b[0m\u001b[1;33m\u001b[0m\u001b[1;33m\u001b[0m\u001b[0m\n\u001b[0m\u001b[0;32m     23\u001b[0m \u001b[1;33m\u001b[0m\u001b[0m\n\u001b[0;32m     24\u001b[0m \u001b[1;33m\u001b[0m\u001b[0m\n",
      "\u001b[1;32m~\\anaconda3\\lib\\site-packages\\scipy\\linalg\\basic.py\u001b[0m in \u001b[0;36msolve_triangular\u001b[1;34m(a, b, trans, lower, unit_diagonal, overwrite_b, debug, check_finite)\u001b[0m\n\u001b[0;32m    353\u001b[0m         \u001b[1;32mreturn\u001b[0m \u001b[0mx\u001b[0m\u001b[1;33m\u001b[0m\u001b[1;33m\u001b[0m\u001b[0m\n\u001b[0;32m    354\u001b[0m     \u001b[1;32mif\u001b[0m \u001b[0minfo\u001b[0m \u001b[1;33m>\u001b[0m \u001b[1;36m0\u001b[0m\u001b[1;33m:\u001b[0m\u001b[1;33m\u001b[0m\u001b[1;33m\u001b[0m\u001b[0m\n\u001b[1;32m--> 355\u001b[1;33m         raise LinAlgError(\"singular matrix: resolution failed at diagonal %d\" %\n\u001b[0m\u001b[0;32m    356\u001b[0m                           (info-1))\n\u001b[0;32m    357\u001b[0m     raise ValueError('illegal value in %dth argument of internal trtrs' %\n",
      "\u001b[1;31mLinAlgError\u001b[0m: singular matrix: resolution failed at diagonal 1"
     ]
    }
   ],
   "source": [
    "sol, error, count = gausseidel(A_eks,b_eks,x0,tol,maxiter)"
   ]
  },
  {
   "cell_type": "code",
   "execution_count": 277,
   "metadata": {},
   "outputs": [
    {
     "name": "stdout",
     "output_type": "stream",
     "text": [
      "Solution with error under tolerance reached \n",
      "\n",
      "Final error = nan \n",
      "Number of iterations = 145\n"
     ]
    },
    {
     "name": "stderr",
     "output_type": "stream",
     "text": [
      "<ipython-input-156-132b7aca7769>:19: RuntimeWarning: overflow encountered in matmul\n",
      "  w = np.transpose(r) @ r / (np.transpose(r) @ A @ r)\n",
      "<ipython-input-156-132b7aca7769>:19: RuntimeWarning: invalid value encountered in matmul\n",
      "  w = np.transpose(r) @ r / (np.transpose(r) @ A @ r)\n"
     ]
    }
   ],
   "source": [
    "sol, error, count = steepestdescent(A_eks,b_eks,x0,tol,maxiter)"
   ]
  }
 ],
 "metadata": {
  "kernelspec": {
   "display_name": "Python 3",
   "language": "python",
   "name": "python3"
  },
  "language_info": {
   "codemirror_mode": {
    "name": "ipython",
    "version": 3
   },
   "file_extension": ".py",
   "mimetype": "text/x-python",
   "name": "python",
   "nbconvert_exporter": "python",
   "pygments_lexer": "ipython3",
   "version": "3.8.3"
  }
 },
 "nbformat": 4,
 "nbformat_minor": 5
}
