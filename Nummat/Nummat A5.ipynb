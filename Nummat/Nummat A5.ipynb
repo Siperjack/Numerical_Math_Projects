{
 "cells": [
  {
   "cell_type": "markdown",
   "metadata": {},
   "source": [
    "### TMA4215 Numerisk Matematikk \n",
    "\n",
    "Høst 2021 – October 22, 2021\n",
    "\n",
    "R. Bergmann, E. Çokaj, O. P. Hellan \n",
    "\n",
    "# Problem Sheet 5\n",
    "\n",
    "## Deadline\n",
    "October 29, 2021, 23:59\n",
    "\n",
    "\n",
    "## Submission\n",
    "Submit your Jupyter notebook containing the solution via upload in Blackboard."
   ]
  },
  {
   "cell_type": "markdown",
   "metadata": {},
   "source": [
    "## Problem 1\n",
    "\n",
    "We want to look at one property from the B splines $B_{i,m}$ of order $m$ (degree $k+1$). Remember that they were recursively\n",
    "defined for a knot vector $\\Delta = [x_0,\\ldots,x_n]$ of pairwise distinct points as\n",
    "\n",
    "$$\n",
    "\\begin{aligned}\n",
    "B_{i,1}(x) & = \\begin{cases}\n",
    "  1 &\\text{ if } x_i \\leq x < x_{i+1}\\\\\n",
    "  0 &\\text{ else,}\n",
    "\\end{cases}\\qquad i\\in \\{0,\\ldots,n-1\\} \\\\\n",
    "B_{i,k+1}(x) & = \\lambda_{i,k+1}(x)B_{i,k}(x) + (1-\\lambda_{i+1,k+1}(x))B_{i+1,k}(x)\n",
    "\\qquad k \\geq 1, i \\in \\{0,\\ldots,n-k-1\\} \\\\\n",
    "\\text{where}\\quad\\lambda_{i,k+1}(x) & =\n",
    "\\begin{cases}\n",
    "\\frac{x-x_i}{x_{i+k}-t_i} & \\text{ if } t_i < t_{x+k}\\\\\n",
    "0 & \\text {else}\n",
    "\\end{cases}\n",
    "\\end{aligned}\n",
    "$$\n",
    "\n",
    "We then further introduced “enough” boundary points by repeating the start and endpoint to appear $m=k+1$ times in the beginning and end, i.e. $\\tilde \\Delta = [x_0,\\ldots,x_0,x_1,\\ldots,x_{n-1},x_n,\\ldots,x_n]$ to define also $B_{-k,m},\\ldots B_{-1,k}$ as well as $B_{n-k},\\ldots,B_{n-1}$\n",
    "\n",
    "Prove by induction that the B-splines form a partition of unity, i.e.\n",
    "\\begin{equation*}\n",
    "\\sum_{i=-k}^{n-1} B_{i,m}(x) = 1.\n",
    "\\end{equation*}\n"
   ]
  },
  {
   "cell_type": "markdown",
   "metadata": {},
   "source": [
    "The basecase is by definition $1$.\n",
    "\n",
    "Case 1: $t_i < t_{x+k}$\n",
    "\n",
    "We assume $B_{i,k}(x)$ is $1$ for $x = x_i$ per hypothesis. Because $\\lambda_{i,k+1}(x) $also is $1$ for $x = x_i$ for case $t_i < t_{x+k}$, then $\\lambda_{i,k+1}(x)B_{i,k}(x) = B_{i,k}(x) = 1 \\text{ for x = x_i}$ As this holds for all nodes and their corresponding B-spline as long as $t_i < t_{x+k}$,  the set of all $B_{i,k+1}(x)$ where $t_i < t_{x+k}$ in $\\lambda$ is partitioned to unity.\n",
    "\n",
    "Case 2: $t_i = t_{x+k}$\n",
    "\n",
    "$\\lambda_{i,k+1}(x)B_{i,k}(x) = 0 * B_{i,k}(x) = 0$ regardless of $B_{i,k}(x)$. Since these B-splines are valued at $0$ at  the nodes in their support, adding them to the nodes inside their suppert does not change the value at the nodes, which means that if the B-splines from case 1 are partitioned to unity, adding the case 2 B-splines doesn't change this. \n",
    " Q.E.D"
   ]
  },
  {
   "cell_type": "markdown",
   "metadata": {},
   "source": [
    "## Problem 2\n",
    "\n",
    "We want to investigate two cases of exact quadrature properties.\n",
    "\n",
    "Remember that a quadrature formula $I_n(f)$ is called __exact__ for a space $G$ of functions, if\n",
    "\n",
    "$$\n",
    "I_n(f) = I(f)\\qquad \\text{for all} \\quad f \\in G.\n",
    "$$\n",
    "\n",
    "Determine the weights $w_0,w_1,w_2$ of the quadrature forumla\n",
    "\\begin{equation*}\n",
    "I_3(f) = w_0f(0)+w_1f\\left(\\frac{\\pi}{2}\\right)+w_2f(\\pi),\n",
    "\\end{equation*}\n",
    "such that the formula $I_3$ is __exact__ for all functions from the space\n",
    "\\begin{equation*}\n",
    "G = \\operatorname{span} \\left\\{1,\\sin(x),\\cos \\left(\\frac{x}{2} \\right)\\right\\}\n",
    "\\end{equation*}\n",
    "on $[0,\\pi]$."
   ]
  },
  {
   "cell_type": "markdown",
   "metadata": {},
   "source": [
    "We create a system of equations for the weight, where the first row is the equation to satisfy solving the integral of the constant function exactly with the quadrature, the second for $\\sin(x)$ and the last for ${\\cos(x/2)}$.\n",
    "$$\n",
    "\\left[\\begin{matrix} 1& 1 & 1\\\\\\sin(0)& \\sin(\\pi / 2) & \\sin(\\pi)\\\\ \\cos(0) & \\cos(\\pi/4) & \\cos(\\pi/2)\\end{matrix}\\right]\\left[\\begin{matrix} w_1 \\\\ w_2 \\\\ w_3\\end{matrix}\\right]\n",
    "= \\left[\\begin{matrix} \\int_0^{\\pi}{1}dx \\\\ \\int_0^{\\pi}{\\sin(x)}dx \\\\ \\int_0^{\\pi}{\\cos(x/2)}dx\\end{matrix}\\right]\n",
    "$$\n",
    "Evaluating the fucntions and integrals we get\n",
    "$$\n",
    "\\left[\\begin{matrix} 1& 1 & 1\\\\0& 1 & 0\\\\1& \\frac{\\sqrt{2}}{2} & 0\\end{matrix}\\right]\\left[\\begin{matrix} w_1 \\\\ w_2 \\\\ w_3\\end{matrix}\\right]\n",
    "= \\left[\\begin{matrix} \\pi \\\\ 2 \\\\ 2\\end{matrix}\\right]\n",
    "$$\n",
    "\n",
    "From this we can easly read of that the weights must be\n",
    "$$\n",
    "\\left[\\begin{matrix} w_1 \\\\ w_2 \\\\ w_3\\end{matrix}\\right] = \\left[\\begin{matrix} 2 -\\sqrt{2} \\\\ 2 \\\\ \\sqrt{2} -4 + \\pi\\end{matrix}\\right]\n",
    "$$\n",
    "\n",
    "Because the quadrature with these weights will solve the integrals of the basisfunctions exactly, all linear combinations will be solved exactly too."
   ]
  }
 ],
 "metadata": {
  "kernelspec": {
   "display_name": "Python 3",
   "language": "python",
   "name": "python3"
  },
  "language_info": {
   "codemirror_mode": {
    "name": "ipython",
    "version": 3
   },
   "file_extension": ".py",
   "mimetype": "text/x-python",
   "name": "python",
   "nbconvert_exporter": "python",
   "pygments_lexer": "ipython3",
   "version": "3.8.3"
  }
 },
 "nbformat": 4,
 "nbformat_minor": 5
}
