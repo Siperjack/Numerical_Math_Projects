{
 "cells": [
  {
   "cell_type": "markdown",
   "metadata": {},
   "source": [
    "# Øving 6 - TMA4320\n",
    "\n",
    "* **Veiledning:** Digital. Onsdag 17. mars, 1015-1200, Mandag 22. mars, 1415-1600, Onsdag 24. mars, 1015-1200. \n",
    "* **Innleveringsfrist:** Fredag 26. mars, 2021, kl 2359\n",
    "* **Innleveringsmetode** Følgende to krav er nødvendig for godkjenning\n",
    "    1. Opplasting av Jupyter Notebook (individuelt) i Blackboard\n",
    "    2. Svare på Blackboardskjema for kontrollspørsmålene i øvingen"
   ]
  },
  {
   "cell_type": "markdown",
   "metadata": {},
   "source": [
    "I denne øvingen skal du lage en ODE-løser med skrittlengdekontroll. Den skal kunne løse generelle startverdiproblemer av formen\n",
    "\n",
    "$$\n",
    "      y' = f(t,y),\\quad y(t_0)=y_0\\quad\\text{for}\\ t\\in[t_0,t_{end}]\n",
    "$$\n",
    "\n",
    "Man lager en funksjon som tar følgende input\n",
    "* t0: Startpunktet (venstre endepunkt)\n",
    "* tend: Sluttpunktet (høyre endepunkt)\n",
    "* y0: Den gitte initialverdien i t0\n",
    "* f: En funksjon som beskrevet nedenfor\n",
    "* h0: En omtrentlig første tidsskrittlengde\n",
    "* tol: En brukerspesifisert toleranse for lokalfeil\n",
    "\n",
    "Funksjonen returnerer\n",
    "* T: et numpy array med alle [t0,t1,...,tend], disse velges av funksjonen\n",
    "* Y: En 2d numpy-matrise der rad k angir løsning ved tid $t=t_k$\n",
    "* stats: en dictionary over interessant statistikk. For eksempel kan man ha nøklene 'steps' for antall skritt, 'fevals' for antall kall til funksjonen f, og 'rejects' for antall ganger skritt ble forkastet. Man kan selv velge hva slags informasjon man ellers vil legge inn i stats.\n",
    "\n",
    "Inputfunksjonen f tar to inputargumenter, $t$ og $y$ der $t$ er et reelt tall og $y$ er et numpy-array med\n",
    "lengde lik problemets dimensjon. Den returnerer et numpy-array av samme dimensjon som y som inneholder $f(t,y)$.\n",
    "\n",
    "Metoden som benyttes er det innbygde paret av orden (3,2) som ble laget av Bogacki og Shampine og nevnt i timen.\n",
    "Skritt $k$ med skrittlengde $h_k:=h$ utføres slik:\n",
    "\n",
    "\\begin{align*}\n",
    "F_1 &= f(t_k,y_k) \\\\\n",
    "F_2 &= f(t_{k}+\\tfrac{1}{2}h, y_k+\\tfrac{1}{2}h F_1) \\\\\n",
    "F_3 &= f(t_k + \\tfrac{3}{4}h, y_k+\\tfrac{3}{4}h F_2) \\\\\n",
    "y_{k+1} &= y_k + \\frac{h}{9}(2F_1+3F_2+4F_3)\n",
    "\\end{align*}\n",
    "\n",
    "Deretter beregnes nivået $F_4$ som en kan bruke som $F_1$ i det etterfølgende skrittet, samt en hjelpeapproksimasjon $\\hat{y}_{k+1}$ til å finne estimat av lokalfeilen:\n",
    "\n",
    "\\begin{align*}\n",
    "F_4 &= f(t_k+h, y_{k+1}) \\\\\n",
    "\\hat{y}_{k+1} &= y_k + \\frac{h}{24}(7F_1+6F_2+8F_3+3F_4)\n",
    "\\end{align*}\n",
    "\n",
    "Det lokale feilestimatet beregnes som\n",
    "\n",
    "$$\n",
    "\\mathrm{est}_{k+1} = \\hat{y}_{k+1} - y_{k+1}\n",
    "$$\n",
    "\n",
    "I tillegg fins en justeringsformel for skrittlengden fra ett skritt til et annet som gjennomgått i timene. Vi setter i dette tilfellet\n",
    "\n",
    "$$\n",
    "    h_{ny} = \\alpha\\cdot h \\cdot \\left(\\frac{\\mathtt{tol}}{\\|\\mathrm{est_{k+1}}\\|}\\right)^{1/3},\\quad \\alpha\\approx 0.8-0.9\n",
    "$$\n",
    "\n",
    "$\\alpha$ er en såkalt pessimistfaktor. Hvis den velges for liten så blir man veldig forsiktig, tar kortere skritt enn nødvendig og bruker dermed uforholdsmessig mange skritt. Hvis den velges for stor så kan det bli mange forkastede skritt. Man tar færre skritt, men bruker regnetid på å gjøre om igjen mange skritt.\n",
    "\n",
    "$h_{ny}$ gitt ved formelen brukes når skrittet man tok ble forkastet og man prøver på nytt med kortere skrittlengde. Den brukes også som beregning av skrittlengde til neste skritt, dvs $h_k=h$ og $h_{k+1}=h_{ny}$ hvis skrittet ble akseptert.\n",
    "\n",
    "Algoritmen kan beskrives som følger (tar ikke med statistikkinnsamling)\n",
    "\n",
    "* Gitt $t_0, t_{end}, y_0, h_0, \\mathtt{tol}, f$ som input\n",
    "* $h=h_0$, $k=0$\n",
    "* $F_1=f(t_0,y_0)$\n",
    "* **while** $t_{end}-t_k>0$\n",
    "    * $h=\\min(h,t_{end}-t_k)$\n",
    "    * $t_{k+1} = t_k+h$\n",
    "    * $F_2, F_3, y_{k+1}$ beregnes fra formler ovenfor\n",
    "    * $F_4=f(t_{k+1},y_{k+1})$ og $\\hat{y}_{k+1}$ beregnes fra formelen ovenfor.\n",
    "    * $\\mathrm{normest}=\\| \\hat{y}_{k+1}-y_{k+1} \\|$\n",
    "    * **if** $\\mathrm{normest} < \\mathtt{tol}$ (aksepter skritt)\n",
    "        * $k=k+1$\n",
    "        * $F_1=F_4$\n",
    "    * $h_{ny}$ beregnes fra oppgitt formel og sett $h=h_{ny}$.\n",
    "\n",
    "Merk at enten skrittet forkastes eller aksepteres så brukes samme formel for å oppdatere skrittlengden $h$.\n",
    "\n",
    "*Dynamisk allokering.* Et programteknisk problem som må løses er det faktum at du ikke vet størrelsen på arrayene $T$ og $Y$ apriori.\n",
    "En løsning på problemet er å bruke numpy-funksjonen append. Normalt sett er slik dynamisk allokering tidkrevende og du bør unngå det dersom du kjenner lengden på array'ene a priori og kan allokere plassen f.eks. med\n",
    "numpy.zeros i starten av programmet.\n",
    "\n",
    "\n",
    "**Oppgave 1** Skriv koden og test den ut på det enkle problemet\n",
    "\n",
    "$$\n",
    "u'=v,\\ v'=-4u,\\quad u(0)=1,\\ v(0)=0,\\ [t_0,t_{end}]=[0,2\\pi]\n",
    "$$\n",
    "\n",
    "som har eksakt løsning $u(t)=\\cos 2t$ og $v(t)=-2\\sin 2t$. Merk at her er $y(t)=[u(t),v(t)]^T$.\n",
    "\n",
    "**Oppgave 2** Anvend rutinen på Brusselator-problemet nedenfor. Sett pessimistfaktor $\\alpha=0.9$,\n",
    "$t_0=0$, $t_{end}=20$, og $tol=10^{-5}$. La $h0=0.1$.\n",
    "\n",
    "\\begin{align*}\n",
    "u' &= 1 + u^2 v - 4 u, & u(0)&=1 \\\\\n",
    "v' &= 3u - u^2 v,  & v(0)&=2.9\n",
    "\\end{align*}\n",
    "\n",
    "Lag et plott som viser hver av løsningskomponentene som funksjon av $t$ (i samme plott)\n",
    "Suppler med et plott rett under dette som viser hvordan skrittlengden varierer med $t$.\n",
    "\n",
    "**Kontrollspørsmål** Du blir her bedt om å rapportere statistikk fra eksperimentet i Oppgave 2.\n",
    "Antall skritt koden din bruker, antall funksjonsevalueringer (feval) og antall forkastede skritt.\n",
    "\n",
    "**Godkjenningskrav** Du må laste opp koden som en Jupyter notebook i Blackboard, og svare på kontrollspørsmålene.\n",
    "\n"
   ]
  },
  {
   "cell_type": "markdown",
   "metadata": {},
   "source": [
    "Oppgave 1"
   ]
  },
  {
   "cell_type": "code",
   "execution_count": 23,
   "metadata": {},
   "outputs": [],
   "source": [
    "import numpy as np\n",
    "import matplotlib.pyplot as plt\n",
    "import time\n",
    "\n",
    "# t0: Startpunktet (venstre endepunkt)\n",
    "# tend: Sluttpunktet (høyre endepunkt)\n",
    "# y0: Den gitte initialverdien i t0\n",
    "# f: En funksjon som beskrevet nedenfor\n",
    "# h0: En omtrentlig første tidsskrittlengde\n",
    "# tol: En brukerspesifisert toleranse for lokalfeil\n",
    "pessimismfactor = 0.9\n",
    "\n",
    "def ODEsolver(f,y0,h0,t0,tend,tol):\n",
    "    t1 = time.time()\n",
    "    h,k = h0,0\n",
    "#     t = [t0]\n",
    "#     y = [y0]\n",
    "    t = np.array([t0])\n",
    "    y = np.zeros((1,2))\n",
    "    y[0,:] = y0\n",
    "    failsafe = 0\n",
    "    F1 = f(t[k],y[k,:])#+1 fcalls\n",
    "    stats = [1,0]#<-- therefore begins with 1\n",
    "    while tend-t[k] > 0 and failsafe < 1000000:\n",
    "        F2 = f(t[k] + 0.5*h,y[k,:] + 0.5*h*F1)\n",
    "        F3 = f(t[k] + 0.75*h,y[k,:] + 0.75*h*F2)\n",
    "        y_new = y[k,:] + h/9*(2*F1 + 3*F2 + 4*F3)\n",
    "        F4 = f(t[k] + h,y_new)\n",
    "        y_est = y[k,:] + h/24*(7*F1 + 6*F2 + 8*F3 + 3*F4)\n",
    "        e_est = np.linalg.norm(y_est - y_new)\n",
    "        if e_est < tol:\n",
    "            t = np.append(t,t[k] + h)\n",
    "            y = np.append(y,[y_new],axis = 0)\n",
    "            k = k + 1\n",
    "            F1 =F4\n",
    "        else:\n",
    "            stats[1] +=1\n",
    "        h = pessimismfactor * h * (tol/e_est)**(1/3)\n",
    "        failsafe += 1\n",
    "        stats[0] += 3#siden funksjonen kalles 3 ganger per iterasjon\n",
    "    print(f\"Steps: {len(t)-1}, func calls: {stats[0]}, unaccepted sol: {stats[1]}\")\n",
    "    t2 = time.time()\n",
    "    print(f'Real time elapsed = {t2-t1}')\n",
    "    return t,y"
   ]
  },
  {
   "cell_type": "markdown",
   "metadata": {},
   "source": [
    "Test 1"
   ]
  },
  {
   "cell_type": "code",
   "execution_count": 24,
   "metadata": {},
   "outputs": [
    {
     "name": "stdout",
     "output_type": "stream",
     "text": [
      "Steps: 206, func calls: 622, unaccepted sol: 1\n",
      "Real time elapsed = 0.03999924659729004\n"
     ]
    },
    {
     "data": {
      "text/plain": [
       "[<matplotlib.lines.Line2D at 0x260bb1c73d0>]"
      ]
     },
     "execution_count": 24,
     "metadata": {},
     "output_type": "execute_result"
    },
    {
     "data": {
      "image/png": "[encoded data removed]",
      "text/plain": [
       "<Figure size 432x288 with 1 Axes>"
      ]
     },
     "metadata": {
      "needs_background": "light"
     },
     "output_type": "display_data"
    }
   ],
   "source": [
    "def RHS(t,vals):\n",
    "    A = np.array([[0,1],[-4,0]])\n",
    "    return A.dot(vals)\n",
    "IC = np.array([1,0])\n",
    "t,y = ODEsolver(RHS,IC,1,0,2*np.pi,1E-5)\n",
    "\n",
    "plt.title(\"ODE\")\n",
    "plt.xlabel(\"t\")\n",
    "plt.plot(t,y[:,0])"
   ]
  },
  {
   "cell_type": "markdown",
   "metadata": {},
   "source": [
    "Oppgave 2"
   ]
  },
  {
   "cell_type": "code",
   "execution_count": 25,
   "metadata": {},
   "outputs": [
    {
     "name": "stdout",
     "output_type": "stream",
     "text": [
      "Steps: 424, func calls: 1336, unaccepted sol: 21\n",
      "Real time elapsed = 0.0830070972442627\n"
     ]
    },
    {
     "data": {
      "text/plain": [
       "[<matplotlib.lines.Line2D at 0x260bb21f550>,\n",
       " <matplotlib.lines.Line2D at 0x260bb21f640>]"
      ]
     },
     "execution_count": 25,
     "metadata": {},
     "output_type": "execute_result"
    },
    {
     "data": {
      "image/png": "[encoded data removed]",
      "text/plain": [
       "<Figure size 432x288 with 1 Axes>"
      ]
     },
     "metadata": {
      "needs_background": "light"
     },
     "output_type": "display_data"
    }
   ],
   "source": [
    "def RHS2(t,vals,):\n",
    "    u = vals[0]\n",
    "    v = vals[1]\n",
    "    du = 1 + u**2*v - 4*u\n",
    "    dv = 3*u - u**2*v\n",
    "    return np.array([du,dv])\n",
    "\n",
    "IC2 = np.array([1,2.9])\n",
    "\n",
    "t,y = ODEsolver(RHS2,IC2,0.1,0,20,10**(-5))\n",
    "plt.title(\"ODE\")\n",
    "plt.xlabel(\"t\")\n",
    "plt.plot(t,y[:,:])"
   ]
  }
 ],
 "metadata": {
  "kernelspec": {
   "display_name": "Python 3",
   "language": "python",
   "name": "python3"
  },
  "language_info": {
   "codemirror_mode": {
    "name": "ipython",
    "version": 3
   },
   "file_extension": ".py",
   "mimetype": "text/x-python",
   "name": "python",
   "nbconvert_exporter": "python",
   "pygments_lexer": "ipython3",
   "version": "3.8.3"
  }
 },
 "nbformat": 4,
 "nbformat_minor": 4
}
