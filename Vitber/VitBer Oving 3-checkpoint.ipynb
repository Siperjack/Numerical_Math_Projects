{
 "cells": [
  {
   "cell_type": "markdown",
   "metadata": {},
   "source": [
    "# Øving 3 - TMA4320\n",
    "* **Veiledning:** Digital. Mandag 25. januar, 1415-1600. Onsdag 27. januar, 1015-1200\n",
    "* **Innleveringsfrist:** Onsdag 3. februar, 2021, kl 2359\n",
    "* **Innleveringsmetode** Følgende to krav er nødvendig for godkjenning\n",
    "    1. Opplasting av Jupyter Notebook (individuelt) i Blackboard\n",
    "    2. Svare på Blackboardskjema for kontrollspørsmålene i øvingen\n",
    "\n",
    "Denne øvingen dreier seg om polynominterpolasjon. Bruk penn og papir til å finne svarene. Ta kopi av denne Jupyter Notebook'en og fyll inn svarene. Last opp den utfylte Notebook'en i Blackboard. Ta også quizen i Bb.\n",
    "\n",
    "**Oppgave 1**\n",
    "\n",
    "La følgende interpolasjonsdata være gitt\n",
    "\n",
    "$$\n",
    " \\begin{array}{|r||r|r|r|r|}\n",
    " \\hline\n",
    " x_i & 0 & 1 & 2 & 4 \\\\ \\hline\n",
    " y_i & 1 & 5 & 11 & 5 \\\\ \\hline\n",
    " \\end{array}\n",
    "$$\n",
    "\n",
    "<div class=\"alert alert-block alert-success\">\n",
    "    \n",
    "**Oppgave 1a.**\n",
    "Bestem Lagrangefunksjonene $L_i(x),\\ i=0,\\ldots,3$ og bestem interpolasjonspolynomet $P_3(x)$ av grad 3.\n",
    "</div>\n"
   ]
  },
  {
   "cell_type": "markdown",
   "metadata": {},
   "source": [
    "**Kontrollspørsmål 1:**\n",
    "Hva er koeffisienten foran $x^2$ i $L_0$? 7/8\n",
    "\n",
    "**Kontrollspørsmål 2:**\n",
    "Hva er koeffisienten foran $x$ i $L_1$? 8/3\n",
    "\n",
    "**Kontrollspørsmål 3:**\n",
    "Hva er koeffisienten foran $x$ i $L_2$? -1\n",
    "\n",
    "**Kontrollspørsmål 4:**\n",
    "Hva er koeffisienten foran $x^2$ i $L_3$? -1/8\n",
    "\n",
    "**Kontrollspørsmål 5:**\n",
    "Hva er koeffisienten foran $x^3$ i $P_3$?  -1\n"
   ]
  },
  {
   "cell_type": "markdown",
   "metadata": {},
   "source": [
    "**Løsning 1a.** (fyll inn din løsning her)\n",
    "y0L0 = (x^3-7x^2+14x-8)/-8\n",
    "y1L1 = 5(x^3-6x^2+8x)/3\n",
    "y2L2 = 11(x^3-5x^2+4x)/-4\n",
    "y3L3 = 5(x^3-3x^2+2x)/24\n",
    "P3 = -x^3+4x^2+x+1"
   ]
  },
  {
   "cell_type": "markdown",
   "metadata": {},
   "source": [
    "<div class=\"alert alert-block alert-success\">\n",
    "    \n",
    "**Oppgave 1b.** Sett opp tabellen over dividerte differenser for dataene ovenfor, og skriv ned interpolasjonspolynomet på Newton's form.\n",
    "</div>"
   ]
  },
  {
   "cell_type": "markdown",
   "metadata": {},
   "source": [
    "**Kontrollspørsmål 6:**\n",
    "Hva er $f\\left[x_0, x_1, x_2\\right]$?  1\n"
   ]
  },
  {
   "cell_type": "markdown",
   "metadata": {},
   "source": [
    "**Løsning 1b.** (fyll inn din løsning her)\n",
    "0| 1   4  1 -1 => P_3(x) = 1 + 4x +x(x-1) - x(x-1)(x-2) = -x^3 + 4x^2 + x + 1\n",
    "1| 5   6 -3\n",
    "2| 11 -3\n",
    "4| 5"
   ]
  },
  {
   "cell_type": "markdown",
   "metadata": {},
   "source": [
    "**Oppgave 2**\n",
    " \n",
    "Kvadratrotfunksjonen, $f(x)=\\sqrt{x}$ skal approksimeres med lineær interpolasjon med hensyn på abscissene\n",
    "$x_0=\\frac14$ og $x_1=1$.\n",
    "\n",
    "*Kommentar.* Klassiske biblioteksrutiner for beregning av $\\sqrt{x}$ gjør følgende: Først skalerer de argumentet $x$ ved å skrive det på formen $x=2^{2m}y$ der $m$ er et heltall og $\\leq\\frac14\\leq y<1$ slik at $\\sqrt{x}=2^m\\sqrt{y}$. Man kan så bruke Newtoniterasjon på $f(z)=z^2-y=0$ som tar formen $z_{k+1}=\\frac12(z_k+\\frac{y}{z_k})$. Men $z_0$ må bestemmes. Da kan man for eksempel benytte interpolasjon slik vi gjør her, og feilskranke er viktig.\n",
    " \n",
    "<div class=\"alert alert-block alert-success\">\n",
    "**Oppgave 2a.** Finn det lineære interpolasjonspolynomet $P(x)$ som interpolerer $f(x)$ i abscissene $x_0$ og $x_1$.\n",
    "</div>\n",
    "\n",
    "\n",
    "**Kontrollspørsmål 7.** Angi $P(\\frac12)$. 2/3"
   ]
  },
  {
   "cell_type": "markdown",
   "metadata": {},
   "source": [
    "**Løsning 2a.** (fyll inn din løsning her)\n",
    "1/4 | 1/2  2/3 => P(x) = 1/2 + 2/3(x-1/4) = 2x/3 + 1/3 => P(1/2) = 2/3\n",
    "1   |  1\n"
   ]
  },
  {
   "cell_type": "markdown",
   "metadata": {},
   "source": [
    "<div class=\"alert alert-block alert-success\">\n",
    "**Oppgave 2b.** Bruk den generelle feilformelen for interpolasjon til å lage en øvre skranke for feilen.\n",
    "Gjør dette ved først å bestemme $M=\\max_{t\\in[\\frac14,1]} |f''(t)|$, og deretter finne maximum av absoluttverdien til\n",
    "datapolynomet $(x-x_0)(x-x_1)$.</div>\n",
    "\n",
    "**Kontrollspørsmål 8.** Angi feilskranken som en brøk $\\frac{p}{q}$ der $p$ og $q$ er relativt primiske heltall (dvs brøken er maksimalt forkortet). 9/64"
   ]
  },
  {
   "cell_type": "markdown",
   "metadata": {},
   "source": [
    "**Løsning 2b.** (Fyll inn din løsning her)\n",
    "|f''(x)| = |1/2*-1/2x^(-3/2)| = |-x^-1.5/4| = x^-1.5/4\n",
    "max{1/4<t<1}|f''(t)|  = 2\n",
    "max{1/4<t<1}|(x-1/4)(x-1)| = 5/8\n",
    "Error <= |f''(c)|P(5/8)2!| = |-9/64| = 9/64"
   ]
  },
  {
   "cell_type": "markdown",
   "metadata": {},
   "source": [
    "<div class=\"alert alert-block alert-success\">\n",
    "    \n",
    "**Oppgave 2c.** Finn deretter eksakt maksimalfeil $\\max_{x\\in[\\frac14,1]} |f(x)-P(x)|$ og sammenlign denne med skranken fra **2b.** </div>\n",
    "\n",
    "**Kontrollspørsmål 9.** Angi denne maksimalfeilen som en brøk $\\frac{p}{q}$ der $p$ og $q$ er relativt primiske heltall. 1/24"
   ]
  },
  {
   "cell_type": "markdown",
   "metadata": {},
   "source": [
    "**Løsning 2c.** (Fyll inn din løsning her)\n",
    "max{1/4<t<,1}|f(x)-P(x)| = max{1/4<t<,1}|sqrt(x)-(2x+1)/3|\n",
    "Kaller |sqrt(x)-(2x+1)/3| for Error(x)\n",
    "dError(x)/dx = 0 => f'(x)-P'(x) = 1/2sqrt(x)-2/3 = 0 => 2sqrt(x) = 3/2 => x = 9/16\n",
    "Setter inn:\n",
    "Error(9/16) = 3/4-18/48-1/3 = = 1/24 < 9/64"
   ]
  }
 ],
 "metadata": {
  "kernelspec": {
   "display_name": "Python 3",
   "language": "python",
   "name": "python3"
  },
  "language_info": {
   "codemirror_mode": {
    "name": "ipython",
    "version": 3
   },
   "file_extension": ".py",
   "mimetype": "text/x-python",
   "name": "python",
   "nbconvert_exporter": "python",
   "pygments_lexer": "ipython3",
   "version": "3.8.3"
  },
  "toc": {
   "base_numbering": 1,
   "nav_menu": {},
   "number_sections": true,
   "sideBar": true,
   "skip_h1_title": true,
   "title_cell": "Table of Contents",
   "title_sidebar": "Contents",
   "toc_cell": false,
   "toc_position": {},
   "toc_section_display": true,
   "toc_window_display": false
  }
 },
 "nbformat": 4,
 "nbformat_minor": 2
}
