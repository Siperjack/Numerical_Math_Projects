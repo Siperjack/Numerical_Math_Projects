{
 "cells": [
  {
   "cell_type": "markdown",
   "id": "671fe8c2",
   "metadata": {},
   "source": [
    "# Introduction to scientific computing - biophysics"
   ]
  },
  {
   "cell_type": "code",
   "execution_count": 5,
   "id": "251ff224",
   "metadata": {},
   "outputs": [],
   "source": [
    "import numpy as np\n",
    "import matplotlib.pyplot as plt\n",
    "import sympy  as sp\n",
    "from numba.core.errors import NumbaDeprecationWarning, NumbaPendingDeprecationWarning\n",
    "import warnings\n",
    "\n",
    "warnings.simplefilter('ignore', category=NumbaDeprecationWarning)\n",
    "warnings.simplefilter('ignore', category=NumbaPendingDeprecationWarning)"
   ]
  },
  {
   "cell_type": "markdown",
   "id": "764f4577",
   "metadata": {},
   "source": [
    "This is a markdown cell.\n",
    "\n",
    "$$\n",
    "\\left[\\begin{matrix}1 & 2\\\\2 & 3\\end{matrix}\\right]\n",
    "$$"
   ]
  },
  {
   "cell_type": "code",
   "execution_count": 10,
   "id": "a070c86f",
   "metadata": {},
   "outputs": [
    {
     "name": "stdout",
     "output_type": "stream",
     "text": [
      "\\left[\\begin{matrix}1 & 2\\\\2 & 3\\end{matrix}\\right]\n"
     ]
    }
   ],
   "source": [
    "x, y = sp.symbols(\"x y\")\n",
    "print(sp.latex(sp.Matrix([[1, 2],[2,3]])))"
   ]
  },
  {
   "cell_type": "code",
   "execution_count": 25,
   "id": "3037383c",
   "metadata": {},
   "outputs": [],
   "source": [
    "eps_r = 78\n",
    "a = 23E-6"
   ]
  },
  {
   "cell_type": "code",
   "execution_count": 107,
   "id": "067c7d0e",
   "metadata": {},
   "outputs": [],
   "source": [
    "def generate_grid(N, M):\n",
    "    empty_squares = np.zeros(N*N - 2*M)\n",
    "    pos_monomers = np.ones(M)\n",
    "    neg_monomers = np.ones(M)*-1\n",
    "    \n",
    "    flattened_grid = np.concatenate((empty_squares, pos_monomers, neg_monomers))\n",
    "    np.random.shuffle(flattened_grid)\n",
    "    grid = flattened_grid.reshape((N,N))\n",
    "    monomer_positions = np.zeros((2*M, 2))\n",
    "    count = 0\n",
    "    for i in range(N):\n",
    "        for j in range(N):\n",
    "            if grid[i,j] != 0:\n",
    "                monomer_positions[count] = np.array([i,j])\n",
    "                count += 1\n",
    "    return grid, monomer_positions\n",
    "    \n",
    "    "
   ]
  },
  {
   "cell_type": "code",
   "execution_count": 108,
   "id": "e4a6bb5c",
   "metadata": {},
   "outputs": [],
   "source": [
    "N, M = 10, 10\n",
    "monomere_grid, monomer_positions = generate_grid(N,M)\n"
   ]
  },
  {
   "cell_type": "code",
   "execution_count": 109,
   "id": "18c39d65",
   "metadata": {},
   "outputs": [
    {
     "data": {
      "image/png": "[encoded data removed]",
      "text/plain": [
       "<Figure size 640x480 with 1 Axes>"
      ]
     },
     "metadata": {},
     "output_type": "display_data"
    }
   ],
   "source": [
    "plt.imshow(monomere_grid)\n",
    "plt.show()"
   ]
  },
  {
   "cell_type": "code",
   "execution_count": 133,
   "id": "3181e953",
   "metadata": {},
   "outputs": [],
   "source": [
    "def getNeighbors(N,pos_i, pos_j, monomer_positions):\n",
    "    r = np.array([pos_i, pos_j])\n",
    "    distances = []\n",
    "    for pos in monomer_positions:\n",
    "        if pos[0] == r[0]:\n",
    "            if pos[1] == r[1]:\n",
    "                continue\n",
    "        distances.append([np.linalg.norm(np.mod(abs(r - pos), N)), pos])\n",
    "    distances.sort(key=lambda x: x[0])\n",
    "    return distances[:4]#first index will be itsef\n",
    "            "
   ]
  },
  {
   "cell_type": "code",
   "execution_count": 135,
   "id": "ed2de4b7",
   "metadata": {},
   "outputs": [
    {
     "data": {
      "text/plain": [
       "[[1.4142135623730951, array([1., 1.])],\n",
       " [2.0, array([2., 0.])],\n",
       " [3.605551275463989, array([2., 3.])],\n",
       " [4.0, array([0., 4.])]]"
      ]
     },
     "execution_count": 135,
     "metadata": {},
     "output_type": "execute_result"
    }
   ],
   "source": [
    "neighboors = getNeighbors(N, 0, 0, monomer_positions)\n",
    "neighboors"
   ]
  },
  {
   "cell_type": "code",
   "execution_count": 136,
   "id": "ac98f0bb",
   "metadata": {},
   "outputs": [
    {
     "ename": "SyntaxError",
     "evalue": "unexpected EOF while parsing (<ipython-input-136-82d94cb16c09>, line 2)",
     "output_type": "error",
     "traceback": [
      "\u001b[1;36m  File \u001b[1;32m\"<ipython-input-136-82d94cb16c09>\"\u001b[1;36m, line \u001b[1;32m2\u001b[0m\n\u001b[1;33m    \u001b[0m\n\u001b[1;37m    ^\u001b[0m\n\u001b[1;31mSyntaxError\u001b[0m\u001b[1;31m:\u001b[0m unexpected EOF while parsing\n"
     ]
    }
   ],
   "source": [
    "def get_energy_from_neighboors(neighboors):\n",
    "    V = 0\n",
    "    for i in range(neigboors):\n",
    "        for j > i:\n",
    "        V += grid[neigboors[1][0], neigboors[1][1]]\n",
    "        \n",
    "        \n",
    "    "
   ]
  },
  {
   "cell_type": "code",
   "execution_count": null,
   "id": "049716ea",
   "metadata": {},
   "outputs": [],
   "source": []
  }
 ],
 "metadata": {
  "kernelspec": {
   "display_name": "Python 3",
   "language": "python",
   "name": "python3"
  },
  "language_info": {
   "codemirror_mode": {
    "name": "ipython",
    "version": 3
   },
   "file_extension": ".py",
   "mimetype": "text/x-python",
   "name": "python",
   "nbconvert_exporter": "python",
   "pygments_lexer": "ipython3",
   "version": "3.8.12"
  }
 },
 "nbformat": 4,
 "nbformat_minor": 5
}
