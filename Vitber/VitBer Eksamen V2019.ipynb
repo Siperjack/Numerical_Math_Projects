{
 "cells": [
  {
   "cell_type": "markdown",
   "metadata": {},
   "source": [
    "# TMA4320 Introduksjon til vitenskapelige beregninger - 24.05.2019 \n",
    "\n",
    "## Cholesky-algoritmen\n",
    "\n",
    "I denne oppgaven skal du implementere Cholesky-algoritmen for å løse symmetriske positiv definitte (SPD) lineære ligningssystemer. Algoritmen består av tre deler\n",
    "1. Choleskyfaktorisering: La $A\\in\\mathbb{R}^{n\\times n}$ være SPD. Finn nedretriangulær matrise $L$ slik at $A=LL^T$\n",
    "2. Foroversubstitusjon: For nedretriangulær matrise $L$ og gitt vektor $b$, finn $c$ slik at $Lc=b$\n",
    "3. Bakoversubstitusjon: For nedretriangulær matrise $L$ og gitt vektor $c$, finn $x$ slik at $L^Tx=c$\n",
    "\n",
    "Det antas at alle matriser og vektorer er representert som numpy arrays. For ordens skyld: Du skal ikke bruke noen form for pivotering i denne oppgaven. *Merk at formler som brukes i Cholesky-faktorisering står i det vedlagte formelarket. Husk også at du har tilgang på manual for numpy og matplotlib om du trenger.*\n",
    "\n",
    "**Oppgave**\n",
    "\n",
    "\n",
    "**(a)** Lag en funksjon $\\texttt{cholesky}$ som utfører selve faktoriseringen, dvs finner den nedretriangulære $L$.\n",
    "\n",
    "*Svaret ditt på denne oppgaven er koden $\\texttt{cholesky}$ samt verifiseringen på 3x3 eksemplet nedenfor *"
   ]
  },
  {
   "cell_type": "code",
   "execution_count": 68,
   "metadata": {},
   "outputs": [],
   "source": [
    "import numpy as np\n",
    "import matplotlib.pyplot as plt\n",
    "\n",
    "def cholesky(A):\n",
    "    ''' A er en positiv definitt matrise som returnerer en nedretriangulær matrise L slik at A=L L^T\n",
    "    '''\n",
    "    L = np.zeros(np.shape(A))\n",
    "    for k in range(len(A)):\n",
    "        if A[k][k] < 0:\n",
    "            print(\"error\")\n",
    "            break\n",
    "        L[k,k] = np.sqrt(A[k][k])\n",
    "        u = 1/L[k,k] * A[k,k+1:]\n",
    "        L[k,k+1:] = np.transpose(u)\n",
    "        A[k+1:,k+1:] = A[k+1:,k+1:] - np.outer(u,u)\n",
    "    return np.transpose(L)\n",
    "    "
   ]
  },
  {
   "cell_type": "markdown",
   "metadata": {},
   "source": [
    "**(b)** Skriv en funksjon, $\\texttt{substit}$ som utfører punkt 2 og 3 beskrevet ovenfor, dvs forover- og bakoversubstitusjon gjøres i den samme python-funksjonen.\n",
    "\n",
    "*Svaret ditt på denne oppgaven er koden samt verifiseringen på 3x3 eksemplet nedenfor*"
   ]
  },
  {
   "cell_type": "code",
   "execution_count": 102,
   "metadata": {},
   "outputs": [],
   "source": [
    "def substit(L,b):\n",
    "    '''For en nedretriangulær matrise L (nxn) og en vektor b (nx1) finn først c (nx1) slik at Lc=b\n",
    "    og deretter x (nx1) slik at Lx=c'''\n",
    "    c = np.zeros(np.shape(b))\n",
    "    x = np.copy(c)\n",
    "    for i in range(len(L)):\n",
    "        for j in range(0,i+1):\n",
    "            if j == i:\n",
    "                c[i] += b[i]/L[i,i]\n",
    "            else:\n",
    "                c[i] -= L[i,j] * c[j]/L[i,i]\n",
    "    Lt = np.transpose(L)\n",
    "    for i in range(len(Lt)-1,-1,-1):\n",
    "        for j in range(len(Lt)-1,i-1,-1):\n",
    "            if j == i:\n",
    "                x[i] += c[i]/Lt[i,i]\n",
    "            else:\n",
    "                x[i] -= Lt[i,j] * x[j]/Lt[i,i] \n",
    "    return x\n",
    "\n"
   ]
  },
  {
   "cell_type": "markdown",
   "metadata": {},
   "source": [
    "Du verifiserer koden din på å løse $Ax=b$ mhp $x$ ved å la den sjekke at med\n",
    "\n",
    "$$\n",
    "   A = \\left[ \n",
    "   \\begin{array}{rrr}\n",
    "    1  &   2  &   3 \\\\\n",
    "     2  &   5  &   4   \\\\\n",
    "     3  &   4  &  14\n",
    "   \\end{array}\n",
    "   \\right]\\quad\\text{og}\n",
    "   \\quad\n",
    "   b=\\left[\\begin{array}{r} -2\\\\ -8 \\\\ 3 \\end{array}\\right]\\quad\\text{blir}\\quad\n",
    "    L = \\left[ \n",
    "   \\begin{array}{rrr}\n",
    "    1  &   0  &   0 \\\\\n",
    "     2  &   1  &   0   \\\\\n",
    "     3  &   -2  &  1\n",
    "   \\end{array}\n",
    "   \\right]\\qquad\\text{og}\\quad\n",
    "    x=\\left[\\begin{array}{r} -1\\\\ -2 \\\\ 1 \\end{array}\\right]\n",
    "$$\n",
    "\n",
    "Fyll inn kall til dine funksjoner i følgende kodecelle der du beregner $L$ og $x$"
   ]
  },
  {
   "cell_type": "code",
   "execution_count": 103,
   "metadata": {},
   "outputs": [
    {
     "name": "stdout",
     "output_type": "stream",
     "text": [
      "L= [[ 1.  0.  0.]\n",
      " [ 2.  1.  0.]\n",
      " [ 3. -2.  1.]]\n",
      "x= [-1. -2.  1.]\n"
     ]
    }
   ],
   "source": [
    "# Verifikasjon oppgave a og b\n",
    "A=np.array([[1,2,3],[2,5,4],[3,4,14]])\n",
    "b = np.array([-2,-8,3])\n",
    "\n",
    "# Kall dine funksjoner cholesky og substit her\n",
    "L = cholesky(A)\n",
    "x = substit(L,b)\n",
    "# Skriv ut L og x, (fjern # eller modifiser flg 2 linjer)\n",
    "print('L=',L)\n",
    "print('x=',x)\n",
    "\n"
   ]
  },
  {
   "cell_type": "markdown",
   "metadata": {},
   "source": [
    "**(c)** Her skal du teste ut implementasjonen ved å anvende den på et ordentlig eksempel. \n",
    "Et varmeledningsproblem i 2D diskretiseres, og man ender opp med følgende delproblem:\n",
    "Gitt $n$ gridceller i hver retning ($x$ og $y$), og\n",
    "gitt temperaturfordeling $U^0\\in\\mathbb{R}^{n^2}$ ved tid $t=0$. For $k=1, 2, \\ldots$ finn temperaturfordeling for tid $t=t_k$, som en vektor $U^k\\in\\mathbb{R}^{n^2}$ ved repetitivt å løse ligningen\n",
    "\n",
    "$$\n",
    "     M U^{k+1} = U^k,\\quad k=0,1,\\ldots\n",
    "$$\n",
    "\n",
    "$M$ er SPD (tas som gitt) og avhenger av en tidsskrittlengde $\\Delta t$ og heltallet $n$. Man har da $M\\in \\mathbb{R}^{n^2\\times n^2}$.\n",
    "\n",
    "Bruk din Choleskyimplementasjon til å beregne $U^1, U^2$ og $U^3$ der du setter $n=50$ og $\\Delta t = 0.01$.\n",
    "Nedenfor fins det tre funksjoner som du kan gjøre bruk av uten videre. Disse er \n",
    "\n",
    "* genM(n,Delta_t) som returnerer matrisen $M$ du skal bruke\n",
    "* genU0(n) som returnerer $U^0$\n",
    "* surfplot(U) som for en løsning $U$ lager et plott av løsningen av varmeledningsproblemet, den viser temperaturfordeling som en flate i $(x,y)$-planet.\n",
    "\n",
    "*Svaret på oppgaven er koden du lager for å finne $U^1, U^2, U^3$ samt plott av $U^0$ og $U^3$ funnet ved å kalle\n",
    "den oppgitte funksjonen surfplot*\n"
   ]
  },
  {
   "cell_type": "code",
   "execution_count": null,
   "metadata": {},
   "outputs": [],
   "source": [
    "# Her skriver du kode for å løse oppgave c\n",
    "#\n",
    "#  1. Hent U0 og beregn U1, U2, U3 ved bruk av dine cholesky- og substitfunksjoner\n",
    "#  2. Plott U0 og U3 med surfplot-funksjonen\n",
    "\n",
    "def solver(n,Delta_t):\n",
    "    M = genM(n,Delta_t)\n",
    "    Us = np.zeros((4,len(M),len(M)))\n",
    "    U0 = genU0(n)\n",
    "    Us[0] = U0\n",
    "    L = cholesky(M)\n",
    "    \n",
    "    for k in range(4):\n",
    "        for j in range(len(U0)):\n",
    "            Us[k+1,:,j] = substit(L,Us[k,:,j])\n",
    "    return Us"
   ]
  },
  {
   "cell_type": "code",
   "execution_count": null,
   "metadata": {},
   "outputs": [],
   "source": [
    "Us = solver(50,0.01)"
   ]
  },
  {
   "cell_type": "code",
   "execution_count": null,
   "metadata": {},
   "outputs": [],
   "source": [
    "surfplot(Us[0])"
   ]
  },
  {
   "cell_type": "code",
   "execution_count": null,
   "metadata": {},
   "outputs": [],
   "source": [
    "surfplot(Us[3])"
   ]
  },
  {
   "cell_type": "markdown",
   "metadata": {},
   "source": [
    "** SUPPLERTE FUNKSJONER **"
   ]
  },
  {
   "cell_type": "code",
   "execution_count": 104,
   "metadata": {},
   "outputs": [],
   "source": [
    "def genM(n,Delta_t):\n",
    "    Delta_x = 1./(n+1)\n",
    "    r=Delta_t/Delta_x**2\n",
    "    ee=np.ones((n,))\n",
    "    B=(1+4*r)*np.diag(ee)-r*np.diag(ee[1:],-1)-r*np.diag(ee[1:],1)\n",
    "    In=np.diag(ee)\n",
    "    Fn=np.diag(ee[1:],1)\n",
    "    Gn=np.diag(ee[1:],-1)\n",
    "    M=np.kron(In,B)-r*np.kron(Fn,In)-r*np.kron(Gn,In)\n",
    "    return M\n",
    "\n",
    "\n",
    "def genU0(n):\n",
    "    p=n**2/4\n",
    "    Z0=np.zeros((n,n))\n",
    "    Z0[n-1,0]=p\n",
    "    Z0[0,n-1]=p\n",
    "    Z0[0,0] = p\n",
    "    Z0[n-1,n-1]=p\n",
    "    U0 = np.reshape(Z0,(n**2,1))\n",
    "    return U0\n",
    "\n",
    "def surfplot(U):\n",
    "    from mpl_toolkits.mplot3d import Axes3D\n",
    "    from matplotlib import cm\n",
    "    n2=U.shape[0]\n",
    "    n=int(np.sqrt(n2))\n",
    "    if n2 != n**2:\n",
    "        print('Antall elementer i U må være et kvadrattall\\n')\n",
    "        return\n",
    "    Delta_x=1/(n+1)\n",
    "    xx=np.linspace(Delta_x,1-Delta_x,n)\n",
    "    yy=np.linspace(Delta_x,1-Delta_x,n)\n",
    "    X,Y = np.meshgrid(xx,yy)\n",
    "    Z = np.reshape(U,(n,n))\n",
    "    fig = plt.figure()\n",
    "    ax = fig.gca(projection='3d')\n",
    "    surf = ax.plot_surface(X, Y, Z, cmap=cm.plasma,\n",
    "                       linewidth=1, antialiased=False)\n",
    "    plt.show()\n",
    "    return surf\n"
   ]
  }
 ],
 "metadata": {
  "kernelspec": {
   "display_name": "Python 3",
   "language": "python",
   "name": "python3"
  },
  "language_info": {
   "codemirror_mode": {
    "name": "ipython",
    "version": 3
   },
   "file_extension": ".py",
   "mimetype": "text/x-python",
   "name": "python",
   "nbconvert_exporter": "python",
   "pygments_lexer": "ipython3",
   "version": "3.8.3"
  },
  "toc": {
   "base_numbering": 1,
   "nav_menu": {},
   "number_sections": true,
   "sideBar": true,
   "skip_h1_title": true,
   "title_cell": "Table of Contents",
   "title_sidebar": "Contents",
   "toc_cell": false,
   "toc_position": {},
   "toc_section_display": true,
   "toc_window_display": false
  }
 },
 "nbformat": 4,
 "nbformat_minor": 2
}
