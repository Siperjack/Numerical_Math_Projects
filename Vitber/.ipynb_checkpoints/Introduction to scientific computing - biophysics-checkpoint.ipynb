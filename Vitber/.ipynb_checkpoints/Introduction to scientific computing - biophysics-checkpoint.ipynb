{
 "cells": [
  {
   "cell_type": "markdown",
   "id": "7182ac0c",
   "metadata": {},
   "source": [
    "# Introduction to scientific computing - biophysics"
   ]
  },
  {
   "cell_type": "code",
   "execution_count": 5,
   "id": "ff3a3684",
   "metadata": {},
   "outputs": [],
   "source": [
    "import numpy as np\n",
    "import matplotlib.pyplot as plt\n",
    "import sympy  as sp\n",
    "from numba.core.errors import NumbaDeprecationWarning, NumbaPendingDeprecationWarning\n",
    "import warnings\n",
    "\n",
    "warnings.simplefilter('ignore', category=NumbaDeprecationWarning)\n",
    "warnings.simplefilter('ignore', category=NumbaPendingDeprecationWarning)"
   ]
  },
  {
   "cell_type": "markdown",
   "id": "10d214d2",
   "metadata": {},
   "source": [
    "This is a markdown cell.\n",
    "\n",
    "$$\n",
    "\\left[\\begin{matrix}1 & 2\\\\2 & 3\\end{matrix}\\right]\n",
    "$$"
   ]
  },
  {
   "cell_type": "code",
   "execution_count": 10,
   "id": "38e54eb6",
   "metadata": {},
   "outputs": [
    {
     "name": "stdout",
     "output_type": "stream",
     "text": [
      "\\left[\\begin{matrix}1 & 2\\\\2 & 3\\end{matrix}\\right]\n"
     ]
    }
   ],
   "source": [
    "x, y = sp.symbols(\"x y\")\n",
    "print(sp.latex(sp.Matrix([[1, 2],[2,3]])))"
   ]
  },
  {
   "cell_type": "code",
   "execution_count": 25,
   "id": "e6beda2a",
   "metadata": {},
   "outputs": [],
   "source": [
    "eps_r = 78\n",
    "a = 23E-6"
   ]
  },
  {
   "cell_type": "code",
   "execution_count": 86,
   "id": "617d17fd",
   "metadata": {},
   "outputs": [],
   "source": [
    "def generate_grid(N, M):\n",
    "    empty_squares = np.zeros(N*N - 2*M)\n",
    "    pos_monomers = np.ones(M)\n",
    "    neg_monomers = np.ones(M)*-1\n",
    "    \n",
    "    flattened_grid = np.concatenate((empty_squares, pos_monomers, neg_monomers))\n",
    "    np.random.shuffle(flattened_grid)\n",
    "    grid = flattened_grid.reshape((N,N))\n",
    "    monomer_positions = np.zeros((2*M, 2))\n",
    "    for i in range(N):\n",
    "        for j in range(N):\n",
    "            if grid[i,j] != 0:\n",
    "                monomer_positions[count] = np.array([i,j])\n",
    "                \n",
    "    \n",
    "    return grid\n",
    "    \n",
    "    "
   ]
  },
  {
   "cell_type": "code",
   "execution_count": 67,
   "id": "f17ad55d",
   "metadata": {},
   "outputs": [],
   "source": [
    "N, M = 10, 10\n",
    "monomere_grid = generate_grid(N,M)"
   ]
  },
  {
   "cell_type": "code",
   "execution_count": 68,
   "id": "54394d16",
   "metadata": {},
   "outputs": [
    {
     "data": {
      "image/png": "[encoded data removed]",
      "text/plain": [
       "<Figure size 640x480 with 1 Axes>"
      ]
     },
     "metadata": {},
     "output_type": "display_data"
    }
   ],
   "source": [
    "plt.imshow(monomere_grid)\n",
    "plt.show()"
   ]
  },
  {
   "cell_type": "code",
   "execution_count": 85,
   "id": "192618f9",
   "metadata": {},
   "outputs": [],
   "source": [
    "def getNeighbors(N,pos_i, pos_j, grid):\n",
    "    r = np.array([pos_i, pos_j])\n",
    "    distances = []\n",
    "    for i in range(N):\n",
    "        for j in range(N):\n",
    "            rij = np.array([i, j])\n",
    "            if grid[i,j] != 0:\n",
    "                distances.append([np.linalg.norm((r - rij)%N), rij])\n",
    "    distances.sort(key=lambda x: x[0])\n",
    "    return distances[1:5]#first index will be itsef\n",
    "            "
   ]
  },
  {
   "cell_type": "code",
   "execution_count": 84,
   "id": "3ed16348",
   "metadata": {},
   "outputs": [
    {
     "data": {
      "text/plain": [
       "[[1.0, array([0, 9])],\n",
       " [3.0, array([0, 7])],\n",
       " [3.605551275463989, array([7, 8])],\n",
       " [5.656854249492381, array([6, 6])]]"
      ]
     },
     "execution_count": 84,
     "metadata": {},
     "output_type": "execute_result"
    }
   ],
   "source": [
    "getNeighbors(N, 0, 0, monomere_grid)"
   ]
  },
  {
   "cell_type": "code",
   "execution_count": null,
   "id": "06eb11b9",
   "metadata": {},
   "outputs": [],
   "source": []
  }
 ],
 "metadata": {
  "kernelspec": {
   "display_name": "Python 3",
   "language": "python",
   "name": "python3"
  },
  "language_info": {
   "codemirror_mode": {
    "name": "ipython",
    "version": 3
   },
   "file_extension": ".py",
   "mimetype": "text/x-python",
   "name": "python",
   "nbconvert_exporter": "python",
   "pygments_lexer": "ipython3",
   "version": "3.8.12"
  }
 },
 "nbformat": 4,
 "nbformat_minor": 5
}
