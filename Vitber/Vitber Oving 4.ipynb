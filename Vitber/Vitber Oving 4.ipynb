{
 "cells": [
  {
   "cell_type": "markdown",
   "metadata": {},
   "source": [
    "# Øving 4 - TMA4320\n",
    "* **Veiledning:** Digital. Mandag 15. februar, 1415-1600. Onsdag 17. februar, 1015-1200\n",
    "* **Innleveringsfrist:** Onsdag 24. februar, 2021, kl 2359\n",
    "* **Innleveringsmetode** Følgende to krav er nødvendig for godkjenning\n",
    "    1. Opplasting av Jupyter Notebook (individuelt) i Blackboard\n",
    "    2. Svare på Blackboardskjema for kontrollspørsmålene i øvingen\n",
    "\n",
    "Denne øvingen dreier seg om numerisk integrasjon. Ta kopi av denne Jupyter Notebook'en og fyll inn svarene. Last opp den utfylte Notebook'en i Blackboard. Ta også quizen i Blackboard.\n"
   ]
  },
  {
   "cell_type": "markdown",
   "metadata": {},
   "source": [
    "**Oppgave 1** Bestem konstanter $R_1, R_2, R_3$ slik at kvadraturformelen\n",
    "\n",
    "$$\n",
    "    Q[f] = R_1 f(\\tfrac16) + R_2 f(\\tfrac12) + R_3 f(\\tfrac56)\n",
    "$$\n",
    "\n",
    "approksimerer \n",
    "\n",
    "$$\n",
    "    \\int_0^1 f(x)\\,dx\n",
    "$$\n",
    "\n",
    "med presisjonsgrad minst lik 2.\n",
    "\n",
    "**Kontrollspørsmål 1:** Oppgi $ R_1 - 3 R_2 +  R_3$"
   ]
  },
  {
   "cell_type": "markdown",
   "metadata": {},
   "source": [
    "Må først finne det interpolerende polynomet med punktene\n",
    "$$ \n",
    "    (\\tfrac16), (\\tfrac12) , (\\tfrac56)\n",
    "$$\n",
    "Bruker Newton-Cotes med polynom av grad to som tilsvarer Simpsons, dette fungerer bra da presisjonsgraden er 3>2.\n",
    "\n",
    "**Kontrollspørsmål 1 svar: 0**"
   ]
  },
  {
   "cell_type": "markdown",
   "metadata": {},
   "source": [
    "**Oppgave 2** (Programmering). \n",
    "\n",
    "**a)** Implementer en adaptiv trapesmetode i Python som beskrevet i kapittel 5.4 \n",
    "(du kan gjerne bare oversette Program 5.2 til Python) i boka. Lag Python funksjonen slik at det teller opp og returnerer antall kall til funksjonen som definerer integranden (typisk kalt $f$).\n",
    "\n",
    "**b)** Kjør programmet med toleranse tol=1.0e-08 på integralet\n",
    "\n",
    "$$\n",
    "   I =  \\int_{-1}^1 \\frac{e^{-x^2}}{\\cos x}\\; dx\n",
    "$$\n",
    "\n",
    "**Kontrollspørsmål 2:** Hvor mange funksjonskall bruker programmet med den gitte toleransen på dette problemet.\n",
    "\n",
    "**c)** Test programmet med toleranse 1.0e-07 på problemet\n",
    "\n",
    "$$\n",
    "     \\int_0^{2\\sqrt{2\\pi}} \\sin x^2\\; dx\n",
    "$$\n",
    "\n",
    "Sannsynligvis returnerer funksjonen din et galt svar etter 1 iterasjon. Forklar hvorfor, og foreslå en måte å komme rundt problemet på. \n",
    "\n",
    "**Kontrollspørsmål 3:** Angi antall funksjonskall når du endrer øvre grense i integralet fra $b=2\\sqrt{2\\pi}$ til\n",
    "$b=5$."
   ]
  },
  {
   "cell_type": "markdown",
   "metadata": {},
   "source": [
    "**Kontrollspørsmål 2 svar: 29612(jeg kalte 3 ganger per iterasjon, men fasiten var 4 så da skrev jeg det.**\n",
    "\n",
    "Det interpolerende polynomet av grad som går gjennom f(a),f(b) og f(c) er P(x) = 0 siden alle ordinatene blir null. Dette gjør at trapesmetoden ved første iterasjon anslår en feil på ca 0, som er under toleransegrensen. Veier rundt dette kan være randomisere abcissene(men da får vi ikke lenger Newton-Cotes), eller vi kan bruke et interpolerende polynom av høyere grad, eller vi kan dele intervallet opp allerede fra starten av da vi vet funksjonen er periodisk og har mye svingninger og denne feilen derfor lett kan oppstå.\n",
    "\n",
    "**Kontrollspørsmål 3 svar: 233860*(samme)**"
   ]
  },
  {
   "cell_type": "code",
   "execution_count": 6,
   "metadata": {},
   "outputs": [
    {
     "name": "stdout",
     "output_type": "stream",
     "text": [
      "Verdien til integral 1 er: 1.7412764249316364, og den ble nådd etter 22209 iterasjoner.\n",
      "Verdien til integral 2 er: -8.520839995119704e-15, og den ble nådd etter 3 iterasjoner.\n",
      "Verdien til integral 2 er: 0.527917284798749, og den ble nådd etter 175395 iterasjoner.\n"
     ]
    },
    {
     "data": {
      "text/plain": [
       "'7403|22209|29612,58465|175395|233860'"
      ]
     },
     "execution_count": 6,
     "metadata": {},
     "output_type": "execute_result"
    }
   ],
   "source": [
    "import numpy as np\n",
    "def integrate(f,a,b,tol,count):\n",
    "    count.append(3)#bare en måte å holde tellingen, \"3\" kommer av 3 kall av funksjonen per rekursjon.\n",
    "    c = (a+b)/2\n",
    "    Fa = f(a)\n",
    "    Fb = f(b)\n",
    "    Fc = f(c)\n",
    "    Sab = (Fa + Fb)*(b-a) /2\n",
    "    Sac = (Fa + Fc)*(c-a) /2\n",
    "    Scb = (Fc + Fb)*(b-c) /2\n",
    "    Q = Sac + Scb\n",
    "    error = abs(Sab - (Sac + Scb)) #feilen til s[a,c]+s[c,b] er den vi er ute etter, og den er ca 1/3\n",
    "    if error > 3*tol:# del av feilen til s[a,b] -(s[a,c]+s[c,b]) for trapesmetoden\n",
    "        Q = integrate(f,a,c,tol/2,count) + integrate(f,c,b,tol/2,count)\n",
    "    return Q\n",
    "\n",
    "def adaptive_quadrature(f,a,b,tol):\n",
    "    count = []\n",
    "    Q = integrate(f,a,b,tol,count)\n",
    "    return Q,sum(count)\n",
    "def funk1(x):\n",
    "    return np.exp(-x**2)/np.cos(x)\n",
    "def funk2(x):\n",
    "    return np.sin(x**2)\n",
    "val1,count1 = adaptive_quadrature(funk1,-1,1,1.0e-8)\n",
    "val20,count20 = adaptive_quadrature(funk2,0,2*np.sqrt(2*np.pi),1.0e-7)\n",
    "val2,count2 = adaptive_quadrature(funk2,0,5,1.0e-7)\n",
    "print(f\"Verdien til integral 1 er: {val1}, og den ble nådd etter {count1} iterasjoner.\") #De er ikke helt riktige disse\n",
    "print(f\"Verdien til integral 2 er: {val20}, og den ble nådd etter {count20} iterasjoner.\") #iterasjonene enda\n",
    "print(f\"Verdien til integral 2 er: {val2}, og den ble nådd etter {count2} iterasjoner.\")\n",
    "\n",
    "\"\"\"22209|29612,175395|233860\"\"\""
   ]
  }
 ],
 "metadata": {
  "kernelspec": {
   "display_name": "Python 3",
   "language": "python",
   "name": "python3"
  },
  "language_info": {
   "codemirror_mode": {
    "name": "ipython",
    "version": 3
   },
   "file_extension": ".py",
   "mimetype": "text/x-python",
   "name": "python",
   "nbconvert_exporter": "python",
   "pygments_lexer": "ipython3",
   "version": "3.8.3"
  }
 },
 "nbformat": 4,
 "nbformat_minor": 4
}
